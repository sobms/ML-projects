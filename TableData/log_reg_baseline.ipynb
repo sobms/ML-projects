{
 "cells": [
  {
   "cell_type": "code",
   "execution_count": null,
   "id": "hired-teaching",
   "metadata": {},
   "outputs": [],
   "source": [
    "import pandas\n",
    "\n",
    "from sklearn.model_selection import train_test_split\n",
    "\n",
    "data = pandas.read_csv(\"wells.csv\", low_memory=False)\n",
    "train, test = train_test_split(data, test_size=0.2, shuffle=False)\n",
    "\n",
    "train"
   ]
  },
  {
   "cell_type": "markdown",
   "id": "freelance-granny",
   "metadata": {},
   "source": [
    "Сразу удалим все строчки с пропусками, т.к. их очень мало:"
   ]
  },
  {
   "cell_type": "code",
   "execution_count": null,
   "id": "legal-decline",
   "metadata": {},
   "outputs": [],
   "source": [
    "train = train.dropna()\n",
    "test = test.dropna()"
   ]
  },
  {
   "cell_type": "markdown",
   "id": "bearing-integrity",
   "metadata": {},
   "source": [
    "Разбиваем на x, y:"
   ]
  },
  {
   "cell_type": "code",
   "execution_count": null,
   "id": "coral-forwarding",
   "metadata": {},
   "outputs": [],
   "source": [
    "train_x = train.iloc[:, 0:14]\n",
    "train_y = train.iloc[:, 15]\n",
    "\n",
    "test_x = test.iloc[:, 0:14]\n",
    "test_y = test.iloc[:, 15]\n",
    "\n",
    "train_x"
   ]
  },
  {
   "cell_type": "code",
   "execution_count": null,
   "id": "adverse-criminal",
   "metadata": {},
   "outputs": [],
   "source": [
    "train_y"
   ]
  },
  {
   "cell_type": "markdown",
   "id": "operational-memphis",
   "metadata": {},
   "source": [
    "# LogisticRegression baseline"
   ]
  },
  {
   "cell_type": "markdown",
   "id": "intelligent-architect",
   "metadata": {},
   "source": [
    "Разбиваем на X, y:"
   ]
  },
  {
   "cell_type": "code",
   "execution_count": null,
   "id": "veterinary-first",
   "metadata": {},
   "outputs": [],
   "source": [
    "from sklearn.linear_model import LogisticRegression\n",
    "from sklearn.metrics import accuracy_score\n",
    "\n",
    "\n",
    "model = LogisticRegression(max_iter=10000)\n",
    "model.fit(train_x, train_y)\n",
    "\n",
    "prediction = model.predict(test_x)\n",
    "print(f\"LogisticRegression accuracy score: {accuracy_score(test_y, prediction)}\")"
   ]
  }
 ],
 "metadata": {
  "kernelspec": {
   "display_name": "Python 3",
   "language": "python",
   "name": "python3"
  },
  "language_info": {
   "codemirror_mode": {
    "name": "ipython",
    "version": 3
   },
   "file_extension": ".py",
   "mimetype": "text/x-python",
   "name": "python",
   "nbconvert_exporter": "python",
   "pygments_lexer": "ipython3",
   "version": "3.8.2"
  }
 },
 "nbformat": 4,
 "nbformat_minor": 5
}
