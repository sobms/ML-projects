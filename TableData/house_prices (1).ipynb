{
 "cells": [
  {
   "cell_type": "code",
   "execution_count": 486,
   "metadata": {
    "cellId": "c7mqsx68epjdzml5lf971",
    "id": "A_L08zrMk9WI"
   },
   "outputs": [],
   "source": [
    "import pandas as pd\n",
    "import numpy as np\n",
    "from sklearn.preprocessing import OneHotEncoder, StandardScaler"
   ]
  },
  {
   "cell_type": "code",
   "execution_count": 588,
   "metadata": {
    "cellId": "jrakv2lv3xcc4d5lcdguea",
    "id": "suoUo3vRx66n"
   },
   "outputs": [],
   "source": [
    "train_df = pd.read_csv('Train.csv')\n",
    "test_df = pd.read_csv('Test.csv')"
   ]
  },
  {
   "cell_type": "code",
   "execution_count": 545,
   "metadata": {
    "cellId": "cfpp4z77y3hbrx2yfxbj6",
    "colab": {
     "base_uri": "https://localhost:8080/"
    },
    "id": "R_jkPAAXyxVf",
    "outputId": "442bb273-4637-4b13-d620-67cc2dce1e6e"
   },
   "outputs": [
    {
     "name": "stdout",
     "output_type": "stream",
     "text": [
      "<class 'pandas.core.frame.DataFrame'>\n",
      "RangeIndex: 70000 entries, 0 to 69999\n",
      "Data columns (total 25 columns):\n",
      "id            70000 non-null int64\n",
      "date          70000 non-null object\n",
      "street_id     70000 non-null int64\n",
      "build_tech    49121 non-null float64\n",
      "floor         70000 non-null int64\n",
      "area          70000 non-null int64\n",
      "rooms         70000 non-null int64\n",
      "balcon        70000 non-null int64\n",
      "metro_dist    66550 non-null float64\n",
      "g_lift        48924 non-null float64\n",
      "n_photos      70000 non-null int64\n",
      "kw1           70000 non-null int64\n",
      "kw2           70000 non-null int64\n",
      "kw3           70000 non-null int64\n",
      "kw4           70000 non-null int64\n",
      "kw5           70000 non-null int64\n",
      "kw6           70000 non-null int64\n",
      "kw7           70000 non-null int64\n",
      "kw8           70000 non-null int64\n",
      "kw9           70000 non-null int64\n",
      "kw10          70000 non-null int64\n",
      "kw11          70000 non-null int64\n",
      "kw12          70000 non-null int64\n",
      "kw13          70000 non-null int64\n",
      "price         70000 non-null int64\n",
      "dtypes: float64(3), int64(21), object(1)\n",
      "memory usage: 13.4+ MB\n"
     ]
    }
   ],
   "source": [
    "train_df.info()"
   ]
  },
  {
   "cell_type": "code",
   "execution_count": 546,
   "metadata": {
    "cellId": "2663hvyca0ohm6wtn8eb2h",
    "colab": {
     "base_uri": "https://localhost:8080/"
    },
    "id": "G2UAb8jK01vn",
    "outputId": "866e9363-d930-4aaa-e91a-7aa7661ee5af"
   },
   "outputs": [
    {
     "data": {
      "text/plain": [
       "array([ 0.,  1., nan, ..., nan, nan, nan])"
      ]
     },
     "execution_count": 546,
     "metadata": {},
     "output_type": "execute_result"
    }
   ],
   "source": [
    "np.unique(train_df['g_lift'])"
   ]
  },
  {
   "cell_type": "code",
   "execution_count": 547,
   "metadata": {
    "cellId": "9n6s4yksmnk317hgt3pf5u",
    "id": "B84Uyy8_zxt2"
   },
   "outputs": [],
   "source": [
    "category_features = ['street_id','balcon','build_tech']\n",
    "num_features = ['metro_dist', 'rooms','floor', 'area', 'n_photos']\n",
    "bool_features = ['g_lift']\n",
    "y = ['price']\n",
    "x = train_df.iloc[:,:-1]\n",
    "for i in range(14):\n",
    "    bool_features.append('kw' + str(i))"
   ]
  },
  {
   "cell_type": "markdown",
   "metadata": {
    "cellId": "5ygte07rbm9v4hk84s88q",
    "id": "MVhH-YCZ3JtY"
   },
   "source": [
    "# Fill nans"
   ]
  },
  {
   "cell_type": "code",
   "execution_count": 548,
   "metadata": {
    "cellId": "olbj61wb9bb6hrikmpr4vo",
    "id": "uH8myyp50i5Y"
   },
   "outputs": [],
   "source": [
    "train_df = train_df.drop(['date','id'], axis = 1)\n",
    "values = {'metro_dist': train_df['metro_dist'].mean()}\n",
    "train_df.fillna(value=values, inplace=True)"
   ]
  },
  {
   "cell_type": "code",
   "execution_count": 549,
   "metadata": {
    "cellId": "ob58gbdzjou4yv7j30qz",
    "id": "mnm0Gu-L42nn"
   },
   "outputs": [
    {
     "name": "stdout",
     "output_type": "stream",
     "text": [
      "(21076, 23)\n",
      "0.4940724388848009\n",
      "(21076,)\n",
      "(20879, 23)\n",
      "0.6256005211302011\n",
      "(20879,)\n"
     ]
    }
   ],
   "source": [
    "# #восстановление пропусков\n",
    "from sklearn.model_selection import train_test_split\n",
    "from sklearn.neighbors import KNeighborsClassifier\n",
    "from sklearn.model_selection import GridSearchCV\n",
    "\n",
    "cols = ['g_lift','build_tech']\n",
    "pred_columns = []\n",
    "for col in cols:\n",
    "     x = train_df[train_df[col].notna()]\n",
    "     x_test = train_df[train_df[col].isna()]\n",
    "     y = x[col]\n",
    "     print(x_test.shape)\n",
    "     x = x.drop(['g_lift', 'build_tech'], axis = 1)\n",
    "     x_test = x_test.drop(['g_lift', 'build_tech'], axis = 1)\n",
    "\n",
    "     X_train, X_test, y_train, y_test = train_test_split(x, y, test_size=0.25, random_state=42)\n",
    "\n",
    "     neigh = KNeighborsClassifier()\n",
    "     gc = GridSearchCV(estimator=neigh,\n",
    "                 param_grid={'n_neighbors': [3,5,7,10,13,15,20]})\n",
    "     gc.fit(X_train, y_train)\n",
    "     gc.best_estimator_.get_params\n",
    "     print(gc.best_estimator_.score(X_test,y_test))\n",
    "     predictions = pd.Series(gc.best_estimator_.predict(x_test))\n",
    "     print(predictions.shape)\n",
    "     pred_columns.append(predictions) \n",
    "     \n"
   ]
  },
  {
   "cell_type": "code",
   "execution_count": 550,
   "metadata": {
    "cellId": "ymzbsyd5g9v1yy7naiwlf"
   },
   "outputs": [],
   "source": [
    "g_lift_col = train_df['g_lift'].to_list()\n",
    "build_tech_col = train_df['build_tech'].to_list()"
   ]
  },
  {
   "cell_type": "code",
   "execution_count": 551,
   "metadata": {
    "cellId": "cbqeow8pziwgpqkx717roj"
   },
   "outputs": [],
   "source": [
    "k = 0\n",
    "for i in range(len(g_lift_col)):\n",
    "    if pd.isna(g_lift_col[i]):\n",
    "        g_lift_col[i] = pred_columns[0][k]\n",
    "        k+=1\n",
    "k = 0\n",
    "for i in range(len(build_tech_col)):\n",
    "    if pd.isna(build_tech_col[i]):\n",
    "        build_tech_col[i] = pred_columns[1][k]\n",
    "        k+=1"
   ]
  },
  {
   "cell_type": "code",
   "execution_count": 552,
   "metadata": {
    "cellId": "67zsjsh07qgb7le1u982f"
   },
   "outputs": [],
   "source": [
    "train_df.fillna(value = {'g_lift': pd.Series(g_lift_col), 'build_tech': pd.Series(build_tech_col)}, inplace=True)"
   ]
  },
  {
   "cell_type": "code",
   "execution_count": 553,
   "metadata": {
    "cellId": "c5uxv7a6ozs0la108n74uq",
    "id": "wHy1giT54o23"
   },
   "outputs": [],
   "source": [
    "train_df = train_df.astype({'build_tech': 'object', 'g_lift' : 'int64', 'balcon':'object'}, copy=False)"
   ]
  },
  {
   "cell_type": "markdown",
   "metadata": {
    "cellId": "kn1mwdf8phrhq722d1gtqc"
   },
   "source": [
    "# Features processing"
   ]
  },
  {
   "cell_type": "code",
   "execution_count": 554,
   "metadata": {
    "cellId": "vtyqi7ubl9qicujs2eyeu"
   },
   "outputs": [],
   "source": [
    "cat_indices = [1, 5]\n",
    "one_hot = pd.get_dummies(train_df[train_df.columns[cat_indices]])\n",
    "train_df = train_df.drop(train_df.columns[cat_indices],axis = 1)\n",
    "train_df = train_df.join(one_hot)"
   ]
  },
  {
   "cell_type": "code",
   "execution_count": 555,
   "metadata": {
    "cellId": "m95fpqvn72m7601v6j2h2"
   },
   "outputs": [
    {
     "name": "stdout",
     "output_type": "stream",
     "text": [
      "<class 'pandas.core.frame.DataFrame'>\n",
      "RangeIndex: 70000 entries, 0 to 69999\n",
      "Data columns (total 27 columns):\n",
      "street_id         70000 non-null int64\n",
      "floor             70000 non-null int64\n",
      "area              70000 non-null int64\n",
      "rooms             70000 non-null int64\n",
      "metro_dist        70000 non-null float64\n",
      "g_lift            70000 non-null int64\n",
      "n_photos          70000 non-null int64\n",
      "kw1               70000 non-null int64\n",
      "kw2               70000 non-null int64\n",
      "kw3               70000 non-null int64\n",
      "kw4               70000 non-null int64\n",
      "kw5               70000 non-null int64\n",
      "kw6               70000 non-null int64\n",
      "kw7               70000 non-null int64\n",
      "kw8               70000 non-null int64\n",
      "kw9               70000 non-null int64\n",
      "kw10              70000 non-null int64\n",
      "kw11              70000 non-null int64\n",
      "kw12              70000 non-null int64\n",
      "kw13              70000 non-null int64\n",
      "price             70000 non-null int64\n",
      "build_tech_0.0    70000 non-null uint8\n",
      "build_tech_1.0    70000 non-null uint8\n",
      "build_tech_2.0    70000 non-null uint8\n",
      "balcon_0          70000 non-null uint8\n",
      "balcon_1          70000 non-null uint8\n",
      "balcon_2          70000 non-null uint8\n",
      "dtypes: float64(1), int64(20), uint8(6)\n",
      "memory usage: 11.6 MB\n"
     ]
    }
   ],
   "source": [
    "train_df.info()"
   ]
  },
  {
   "cell_type": "code",
   "execution_count": 556,
   "metadata": {
    "cellId": "5elqp92yrel693rfko6732"
   },
   "outputs": [],
   "source": [
    "num_inds = [1,2,3,4, 6]"
   ]
  },
  {
   "cell_type": "code",
   "execution_count": 557,
   "metadata": {
    "cellId": "ryxb0373xilva8s9e2wx7"
   },
   "outputs": [
    {
     "data": {
      "text/plain": [
       "'hash_space = len(np.unique(train_df[\\'street_id\\']))*3\\nstreet_id_arr = np.array(train_df[\\'street_id\\'])\\nfor i in range(len(street_id_arr)):\\n    street_id_arr[i] =  hash(street_id_arr[i]) % hash_space\\ntrain_df = train_df.drop(train_df.columns[0], axis = 1)\\ntrain_df.loc[:,\"street_id\"] = pd.Series(street_id_arr, index = train_df.index)'"
      ]
     },
     "execution_count": 557,
     "metadata": {},
     "output_type": "execute_result"
    }
   ],
   "source": [
    "\"\"\"hash_space = len(np.unique(train_df['street_id']))*3\n",
    "street_id_arr = np.array(train_df['street_id'])\n",
    "for i in range(len(street_id_arr)):\n",
    "    street_id_arr[i] =  hash(street_id_arr[i]) % hash_space\n",
    "train_df = train_df.drop(train_df.columns[0], axis = 1)\n",
    "train_df.loc[:,\"street_id\"] = pd.Series(street_id_arr, index = train_df.index)\"\"\""
   ]
  },
  {
   "cell_type": "code",
   "execution_count": 577,
   "metadata": {
    "cellId": "d762jdznlgez3xizba66os"
   },
   "outputs": [],
   "source": [
    "scaler = StandardScaler()#нормализация данных\n",
    "num_features = pd.DataFrame(scaler.fit_transform(train_df[train_df.columns[num_inds]]), columns = ['floor', 'area', 'rooms', 'metro_dist','n_photos'])"
   ]
  },
  {
   "cell_type": "code",
   "execution_count": 578,
   "metadata": {
    "cellId": "po6thux627bx46jxr60aak"
   },
   "outputs": [],
   "source": [
    "train_df = train_df.drop(train_df.columns[num_inds],axis = 1)\n",
    "train_df = train_df.join(num_features)"
   ]
  },
  {
   "cell_type": "markdown",
   "metadata": {
    "cellId": "1e6euyh2j0zxuzxi5yp14j"
   },
   "source": [
    "# Train"
   ]
  },
  {
   "cell_type": "code",
   "execution_count": 579,
   "metadata": {
    "cellId": "bd9e3kkw0xvxo5kfejlxj"
   },
   "outputs": [
    {
     "name": "stdout",
     "output_type": "stream",
     "text": [
      "<class 'pandas.core.frame.DataFrame'>\n",
      "RangeIndex: 70000 entries, 0 to 69999\n",
      "Data columns (total 27 columns):\n",
      "street_id         70000 non-null int64\n",
      "g_lift            70000 non-null int64\n",
      "kw1               70000 non-null int64\n",
      "kw2               70000 non-null int64\n",
      "kw3               70000 non-null int64\n",
      "kw4               70000 non-null int64\n",
      "kw5               70000 non-null int64\n",
      "kw6               70000 non-null int64\n",
      "kw7               70000 non-null int64\n",
      "kw8               70000 non-null int64\n",
      "kw9               70000 non-null int64\n",
      "kw10              70000 non-null int64\n",
      "kw11              70000 non-null int64\n",
      "kw12              70000 non-null int64\n",
      "kw13              70000 non-null int64\n",
      "price             70000 non-null int64\n",
      "build_tech_0.0    70000 non-null uint8\n",
      "build_tech_1.0    70000 non-null uint8\n",
      "build_tech_2.0    70000 non-null uint8\n",
      "balcon_0          70000 non-null uint8\n",
      "balcon_1          70000 non-null uint8\n",
      "balcon_2          70000 non-null uint8\n",
      "floor             70000 non-null float64\n",
      "area              70000 non-null float64\n",
      "rooms             70000 non-null float64\n",
      "metro_dist        70000 non-null float64\n",
      "n_photos          70000 non-null float64\n",
      "dtypes: float64(5), int64(16), uint8(6)\n",
      "memory usage: 11.6 MB\n"
     ]
    }
   ],
   "source": [
    "train_df.info()"
   ]
  },
  {
   "cell_type": "code",
   "execution_count": 607,
   "metadata": {
    "cellId": "eq04wlbk8989cqw0dnsp0g"
   },
   "outputs": [
    {
     "data": {
      "text/plain": [
       "LGBMRegressor(boosting_type='goss', class_weight=None, colsample_bytree=1.0,\n",
       "              importance_type='split', learning_rate=0.1, max_depth=-1,\n",
       "              min_child_samples=20, min_child_weight=0.001, min_split_gain=0.0,\n",
       "              n_estimators=500, n_jobs=-1, num_leaves=31, objective=None,\n",
       "              random_state=None, reg_alpha=0.0, reg_lambda=0.0, silent=True,\n",
       "              subsample=1.0, subsample_for_bin=200000, subsample_freq=0)"
      ]
     },
     "execution_count": 607,
     "metadata": {},
     "output_type": "execute_result"
    }
   ],
   "source": [
    "Y = train_df['price']\n",
    "X = train_df.drop('price', axis = 1)\n",
    "from sklearn.model_selection import train_test_split\n",
    "X_train, X_test, y_train, y_test = train_test_split(X, Y, test_size=0.33, random_state=42)\n",
    "from lightgbm import LGBMRegressor\n",
    "LGBM = LGBMRegressor(n_estimators=500, boosting_type ='goss')\n",
    "LGBM.fit(X_train, y_train)"
   ]
  },
  {
   "cell_type": "code",
   "execution_count": 608,
   "metadata": {
    "cellId": "kp52kz44anaiibu4t8luz"
   },
   "outputs": [
    {
     "data": {
      "text/plain": [
       "2372649.4113129834"
      ]
     },
     "execution_count": 608,
     "metadata": {},
     "output_type": "execute_result"
    }
   ],
   "source": [
    "metric = np.sqrt(mean_squared_error(boosting_model.predict(X_test),y_test))\n",
    "metric"
   ]
  },
  {
   "cell_type": "code",
   "execution_count": 583,
   "metadata": {
    "cellId": "sesdgii5n8rv7ngkidev2"
   },
   "outputs": [
    {
     "data": {
      "text/plain": [
       "2343785.9917051047"
      ]
     },
     "execution_count": 583,
     "metadata": {},
     "output_type": "execute_result"
    }
   ],
   "source": [
    "from sklearn.metrics import mean_squared_error\n",
    "metric = np.sqrt(mean_squared_error(LGBM.predict(X_test),y_test))\n",
    "metric"
   ]
  },
  {
   "cell_type": "markdown",
   "metadata": {
    "cellId": "we8wzfy0iaysxia5aahdm"
   },
   "source": [
    "# Submission"
   ]
  },
  {
   "cell_type": "code",
   "execution_count": 589,
   "metadata": {
    "cellId": "7lbkz1534zf05hcx7ks2flb"
   },
   "outputs": [],
   "source": [
    "test_df = test_df.drop(['date','id'], axis = 1)\n",
    "values = {'metro_dist': test_df['metro_dist'].mean()}\n",
    "test_df.fillna(value=values, inplace=True)"
   ]
  },
  {
   "cell_type": "code",
   "execution_count": 590,
   "metadata": {
    "cellId": "127myv0f282dz9jg9kpgkr"
   },
   "outputs": [
    {
     "name": "stdout",
     "output_type": "stream",
     "text": [
      "(8916, 22)\n",
      "0.49800796812749004\n",
      "(8916,)\n",
      "(8856, 22)\n",
      "0.684449489216799\n",
      "(8856,)\n"
     ]
    }
   ],
   "source": [
    "# #восстановление пропусков\n",
    "from sklearn.model_selection import train_test_split\n",
    "from sklearn.neighbors import KNeighborsClassifier\n",
    "from sklearn.model_selection import GridSearchCV\n",
    "\n",
    "cols = ['g_lift','build_tech']\n",
    "pred_columns = []\n",
    "for col in cols:\n",
    "     x = test_df[test_df[col].notna()]\n",
    "     x_test = test_df[test_df[col].isna()]\n",
    "     y = x[col]\n",
    "     print(x_test.shape)\n",
    "     x = x.drop(['g_lift', 'build_tech'], axis = 1)\n",
    "     x_test = x_test.drop(['g_lift', 'build_tech'], axis = 1)\n",
    "\n",
    "     X_train, X_test, y_train, y_test = train_test_split(x, y, test_size=0.25, random_state=42)\n",
    "\n",
    "     neigh = KNeighborsClassifier()\n",
    "     gc = GridSearchCV(estimator=neigh,\n",
    "                 param_grid={'n_neighbors': [3,5,7,10,13,15,20]})\n",
    "     gc.fit(X_train, y_train)\n",
    "     gc.best_estimator_.get_params\n",
    "     print(gc.best_estimator_.score(X_test,y_test))\n",
    "     predictions = pd.Series(gc.best_estimator_.predict(x_test))\n",
    "     print(predictions.shape)\n",
    "     pred_columns.append(predictions) \n",
    "     \n"
   ]
  },
  {
   "cell_type": "code",
   "execution_count": 591,
   "metadata": {
    "cellId": "k08mzh8ok8v7vfkckkn7"
   },
   "outputs": [],
   "source": [
    "g_lift_col = test_df['g_lift'].to_list()\n",
    "build_tech_col = test_df['build_tech'].to_list()"
   ]
  },
  {
   "cell_type": "code",
   "execution_count": 592,
   "metadata": {
    "cellId": "7xkxojr317rqdp8po5agpm"
   },
   "outputs": [],
   "source": [
    "k = 0\n",
    "for i in range(len(g_lift_col)):\n",
    "    if pd.isna(g_lift_col[i]):\n",
    "        g_lift_col[i] = pred_columns[0][k]\n",
    "        k+=1\n",
    "k = 0\n",
    "for i in range(len(build_tech_col)):\n",
    "    if pd.isna(build_tech_col[i]):\n",
    "        build_tech_col[i] = pred_columns[1][k]\n",
    "        k+=1"
   ]
  },
  {
   "cell_type": "code",
   "execution_count": 593,
   "metadata": {
    "cellId": "1okg1p8ekl3ljbfu1qwz0c"
   },
   "outputs": [],
   "source": [
    "test_df.fillna(value = {'g_lift': pd.Series(g_lift_col), 'build_tech': pd.Series(build_tech_col)}, inplace=True)"
   ]
  },
  {
   "cell_type": "code",
   "execution_count": 594,
   "metadata": {
    "cellId": "zbwrzy4z6kiyclua2iu32"
   },
   "outputs": [],
   "source": [
    "test_df = test_df.astype({'build_tech': 'object', 'g_lift' : 'int64', 'balcon':'object'}, copy=False)"
   ]
  },
  {
   "cell_type": "code",
   "execution_count": 595,
   "metadata": {
    "cellId": "ivp09bh03drg47l6ptvx"
   },
   "outputs": [],
   "source": [
    "cat_indices = [1, 5]\n",
    "one_hot = pd.get_dummies(test_df[test_df.columns[cat_indices]])\n",
    "test_df = test_df.drop(test_df.columns[cat_indices],axis = 1)\n",
    "test_df = test_df.join(one_hot)"
   ]
  },
  {
   "cell_type": "code",
   "execution_count": 596,
   "metadata": {
    "cellId": "ajguwkifcpfr83mqnvlja"
   },
   "outputs": [
    {
     "data": {
      "text/plain": [
       "'hash_space = len(np.unique(test_df[\\'street_id\\']))*3\\nstreet_id_arr = np.array(test_df[\\'street_id\\'])\\nfor i in range(len(street_id_arr)):\\n    street_id_arr[i] =  hash(street_id_arr[i]) % hash_space\\ntest_df = test_df.drop(test_df.columns[0], axis = 1)\\ntest_df.loc[:,\"street_id\"] = pd.Series(street_id_arr, index = test_df.index)'"
      ]
     },
     "execution_count": 596,
     "metadata": {},
     "output_type": "execute_result"
    }
   ],
   "source": [
    "\"\"\"hash_space = len(np.unique(test_df['street_id']))*3\n",
    "street_id_arr = np.array(test_df['street_id'])\n",
    "for i in range(len(street_id_arr)):\n",
    "    street_id_arr[i] =  hash(street_id_arr[i]) % hash_space\n",
    "test_df = test_df.drop(test_df.columns[0], axis = 1)\n",
    "test_df.loc[:,\"street_id\"] = pd.Series(street_id_arr, index = test_df.index)\"\"\""
   ]
  },
  {
   "cell_type": "code",
   "execution_count": 597,
   "metadata": {
    "cellId": "l8z9meoa9z3p20ny5njet"
   },
   "outputs": [],
   "source": [
    "scaler = StandardScaler()#нормализация данных\n",
    "num_features = pd.DataFrame(scaler.fit_transform(test_df[test_df.columns[num_inds]]), columns = ['floor', 'area', 'rooms', 'metro_dist','n_photos'])\n",
    "test_df = test_df.drop(test_df.columns[num_inds],axis = 1)\n",
    "test_df = test_df.join(num_features)"
   ]
  },
  {
   "cell_type": "code",
   "execution_count": 601,
   "metadata": {
    "cellId": "n5e8h5fawj91eh318tsi0m"
   },
   "outputs": [],
   "source": [
    "submit = pd.read_csv('SampleSubmission.csv')\n",
    "submit['price']=LGBM.predict(test_df)"
   ]
  },
  {
   "cell_type": "code",
   "execution_count": 602,
   "metadata": {
    "cellId": "cw7ly44aqw7fz0y3opiokl"
   },
   "outputs": [],
   "source": [
    "submit.to_csv('./my_submission9.csv', index = False)"
   ]
  },
  {
   "cell_type": "code",
   "execution_count": 600,
   "metadata": {
    "cellId": "l0b0c6xrc9shfb52x5q6k"
   },
   "outputs": [
    {
     "data": {
      "text/html": [
       "<div>\n",
       "<style scoped>\n",
       "    .dataframe tbody tr th:only-of-type {\n",
       "        vertical-align: middle;\n",
       "    }\n",
       "\n",
       "    .dataframe tbody tr th {\n",
       "        vertical-align: top;\n",
       "    }\n",
       "\n",
       "    .dataframe thead th {\n",
       "        text-align: right;\n",
       "    }\n",
       "</style>\n",
       "<table border=\"1\" class=\"dataframe\">\n",
       "  <thead>\n",
       "    <tr style=\"text-align: right;\">\n",
       "      <th></th>\n",
       "      <th>street_id</th>\n",
       "      <th>g_lift</th>\n",
       "      <th>kw1</th>\n",
       "      <th>kw2</th>\n",
       "      <th>kw3</th>\n",
       "      <th>kw4</th>\n",
       "      <th>kw5</th>\n",
       "      <th>kw6</th>\n",
       "      <th>kw7</th>\n",
       "      <th>kw8</th>\n",
       "      <th>...</th>\n",
       "      <th>build_tech_1.0</th>\n",
       "      <th>build_tech_2.0</th>\n",
       "      <th>balcon_0</th>\n",
       "      <th>balcon_1</th>\n",
       "      <th>balcon_2</th>\n",
       "      <th>floor</th>\n",
       "      <th>area</th>\n",
       "      <th>rooms</th>\n",
       "      <th>metro_dist</th>\n",
       "      <th>n_photos</th>\n",
       "    </tr>\n",
       "  </thead>\n",
       "  <tbody>\n",
       "    <tr>\n",
       "      <th>0</th>\n",
       "      <td>560</td>\n",
       "      <td>1</td>\n",
       "      <td>0</td>\n",
       "      <td>1</td>\n",
       "      <td>0</td>\n",
       "      <td>0</td>\n",
       "      <td>0</td>\n",
       "      <td>0</td>\n",
       "      <td>0</td>\n",
       "      <td>0</td>\n",
       "      <td>...</td>\n",
       "      <td>1</td>\n",
       "      <td>0</td>\n",
       "      <td>1</td>\n",
       "      <td>0</td>\n",
       "      <td>0</td>\n",
       "      <td>-0.838549</td>\n",
       "      <td>0.380205</td>\n",
       "      <td>1.063414</td>\n",
       "      <td>0.971499</td>\n",
       "      <td>1.302402</td>\n",
       "    </tr>\n",
       "    <tr>\n",
       "      <th>1</th>\n",
       "      <td>232</td>\n",
       "      <td>1</td>\n",
       "      <td>0</td>\n",
       "      <td>1</td>\n",
       "      <td>0</td>\n",
       "      <td>0</td>\n",
       "      <td>0</td>\n",
       "      <td>0</td>\n",
       "      <td>0</td>\n",
       "      <td>0</td>\n",
       "      <td>...</td>\n",
       "      <td>0</td>\n",
       "      <td>0</td>\n",
       "      <td>1</td>\n",
       "      <td>0</td>\n",
       "      <td>0</td>\n",
       "      <td>-0.582362</td>\n",
       "      <td>0.436463</td>\n",
       "      <td>1.063414</td>\n",
       "      <td>0.351639</td>\n",
       "      <td>0.272678</td>\n",
       "    </tr>\n",
       "    <tr>\n",
       "      <th>2</th>\n",
       "      <td>453</td>\n",
       "      <td>1</td>\n",
       "      <td>0</td>\n",
       "      <td>0</td>\n",
       "      <td>0</td>\n",
       "      <td>0</td>\n",
       "      <td>0</td>\n",
       "      <td>0</td>\n",
       "      <td>0</td>\n",
       "      <td>0</td>\n",
       "      <td>...</td>\n",
       "      <td>1</td>\n",
       "      <td>0</td>\n",
       "      <td>1</td>\n",
       "      <td>0</td>\n",
       "      <td>0</td>\n",
       "      <td>-0.069987</td>\n",
       "      <td>-0.013602</td>\n",
       "      <td>-0.142056</td>\n",
       "      <td>0.971499</td>\n",
       "      <td>-0.757045</td>\n",
       "    </tr>\n",
       "    <tr>\n",
       "      <th>3</th>\n",
       "      <td>44</td>\n",
       "      <td>1</td>\n",
       "      <td>0</td>\n",
       "      <td>0</td>\n",
       "      <td>0</td>\n",
       "      <td>0</td>\n",
       "      <td>0</td>\n",
       "      <td>0</td>\n",
       "      <td>0</td>\n",
       "      <td>0</td>\n",
       "      <td>...</td>\n",
       "      <td>0</td>\n",
       "      <td>0</td>\n",
       "      <td>1</td>\n",
       "      <td>0</td>\n",
       "      <td>0</td>\n",
       "      <td>-1.094736</td>\n",
       "      <td>-1.082507</td>\n",
       "      <td>-1.347527</td>\n",
       "      <td>0.971499</td>\n",
       "      <td>-1.271907</td>\n",
       "    </tr>\n",
       "    <tr>\n",
       "      <th>4</th>\n",
       "      <td>74</td>\n",
       "      <td>0</td>\n",
       "      <td>0</td>\n",
       "      <td>0</td>\n",
       "      <td>0</td>\n",
       "      <td>0</td>\n",
       "      <td>0</td>\n",
       "      <td>0</td>\n",
       "      <td>0</td>\n",
       "      <td>0</td>\n",
       "      <td>...</td>\n",
       "      <td>0</td>\n",
       "      <td>1</td>\n",
       "      <td>0</td>\n",
       "      <td>0</td>\n",
       "      <td>1</td>\n",
       "      <td>2.748075</td>\n",
       "      <td>-0.463668</td>\n",
       "      <td>-1.347527</td>\n",
       "      <td>-0.268221</td>\n",
       "      <td>-0.757045</td>\n",
       "    </tr>\n",
       "    <tr>\n",
       "      <th>...</th>\n",
       "      <td>...</td>\n",
       "      <td>...</td>\n",
       "      <td>...</td>\n",
       "      <td>...</td>\n",
       "      <td>...</td>\n",
       "      <td>...</td>\n",
       "      <td>...</td>\n",
       "      <td>...</td>\n",
       "      <td>...</td>\n",
       "      <td>...</td>\n",
       "      <td>...</td>\n",
       "      <td>...</td>\n",
       "      <td>...</td>\n",
       "      <td>...</td>\n",
       "      <td>...</td>\n",
       "      <td>...</td>\n",
       "      <td>...</td>\n",
       "      <td>...</td>\n",
       "      <td>...</td>\n",
       "      <td>...</td>\n",
       "      <td>...</td>\n",
       "    </tr>\n",
       "    <tr>\n",
       "      <th>69995</th>\n",
       "      <td>598</td>\n",
       "      <td>1</td>\n",
       "      <td>0</td>\n",
       "      <td>0</td>\n",
       "      <td>0</td>\n",
       "      <td>1</td>\n",
       "      <td>0</td>\n",
       "      <td>0</td>\n",
       "      <td>0</td>\n",
       "      <td>0</td>\n",
       "      <td>...</td>\n",
       "      <td>1</td>\n",
       "      <td>0</td>\n",
       "      <td>1</td>\n",
       "      <td>0</td>\n",
       "      <td>0</td>\n",
       "      <td>-1.094736</td>\n",
       "      <td>0.492721</td>\n",
       "      <td>1.063414</td>\n",
       "      <td>-2.127801</td>\n",
       "      <td>1.817263</td>\n",
       "    </tr>\n",
       "    <tr>\n",
       "      <th>69996</th>\n",
       "      <td>401</td>\n",
       "      <td>0</td>\n",
       "      <td>0</td>\n",
       "      <td>0</td>\n",
       "      <td>0</td>\n",
       "      <td>0</td>\n",
       "      <td>0</td>\n",
       "      <td>0</td>\n",
       "      <td>0</td>\n",
       "      <td>0</td>\n",
       "      <td>...</td>\n",
       "      <td>0</td>\n",
       "      <td>0</td>\n",
       "      <td>1</td>\n",
       "      <td>0</td>\n",
       "      <td>0</td>\n",
       "      <td>-0.069987</td>\n",
       "      <td>-1.251282</td>\n",
       "      <td>-1.347527</td>\n",
       "      <td>0.971499</td>\n",
       "      <td>-0.757045</td>\n",
       "    </tr>\n",
       "    <tr>\n",
       "      <th>69997</th>\n",
       "      <td>59</td>\n",
       "      <td>0</td>\n",
       "      <td>0</td>\n",
       "      <td>1</td>\n",
       "      <td>0</td>\n",
       "      <td>0</td>\n",
       "      <td>0</td>\n",
       "      <td>0</td>\n",
       "      <td>0</td>\n",
       "      <td>0</td>\n",
       "      <td>...</td>\n",
       "      <td>0</td>\n",
       "      <td>0</td>\n",
       "      <td>1</td>\n",
       "      <td>0</td>\n",
       "      <td>0</td>\n",
       "      <td>-0.326174</td>\n",
       "      <td>-1.026249</td>\n",
       "      <td>-1.347527</td>\n",
       "      <td>0.971499</td>\n",
       "      <td>-0.757045</td>\n",
       "    </tr>\n",
       "    <tr>\n",
       "      <th>69998</th>\n",
       "      <td>253</td>\n",
       "      <td>1</td>\n",
       "      <td>0</td>\n",
       "      <td>1</td>\n",
       "      <td>0</td>\n",
       "      <td>0</td>\n",
       "      <td>0</td>\n",
       "      <td>0</td>\n",
       "      <td>0</td>\n",
       "      <td>0</td>\n",
       "      <td>...</td>\n",
       "      <td>1</td>\n",
       "      <td>0</td>\n",
       "      <td>1</td>\n",
       "      <td>0</td>\n",
       "      <td>0</td>\n",
       "      <td>-0.582362</td>\n",
       "      <td>-0.013602</td>\n",
       "      <td>-0.142056</td>\n",
       "      <td>-2.127801</td>\n",
       "      <td>0.787540</td>\n",
       "    </tr>\n",
       "    <tr>\n",
       "      <th>69999</th>\n",
       "      <td>482</td>\n",
       "      <td>0</td>\n",
       "      <td>0</td>\n",
       "      <td>0</td>\n",
       "      <td>0</td>\n",
       "      <td>0</td>\n",
       "      <td>0</td>\n",
       "      <td>0</td>\n",
       "      <td>0</td>\n",
       "      <td>0</td>\n",
       "      <td>...</td>\n",
       "      <td>0</td>\n",
       "      <td>0</td>\n",
       "      <td>1</td>\n",
       "      <td>0</td>\n",
       "      <td>0</td>\n",
       "      <td>0.442388</td>\n",
       "      <td>0.267688</td>\n",
       "      <td>-0.142056</td>\n",
       "      <td>-2.127801</td>\n",
       "      <td>-1.271907</td>\n",
       "    </tr>\n",
       "  </tbody>\n",
       "</table>\n",
       "<p>70000 rows × 27 columns</p>\n",
       "</div>"
      ],
      "text/plain": [
       "       street_id  g_lift  kw1  kw2  kw3  kw4  kw5  kw6  kw7  kw8  ...  \\\n",
       "0            560       1    0    1    0    0    0    0    0    0  ...   \n",
       "1            232       1    0    1    0    0    0    0    0    0  ...   \n",
       "2            453       1    0    0    0    0    0    0    0    0  ...   \n",
       "3             44       1    0    0    0    0    0    0    0    0  ...   \n",
       "4             74       0    0    0    0    0    0    0    0    0  ...   \n",
       "...          ...     ...  ...  ...  ...  ...  ...  ...  ...  ...  ...   \n",
       "69995        598       1    0    0    0    1    0    0    0    0  ...   \n",
       "69996        401       0    0    0    0    0    0    0    0    0  ...   \n",
       "69997         59       0    0    1    0    0    0    0    0    0  ...   \n",
       "69998        253       1    0    1    0    0    0    0    0    0  ...   \n",
       "69999        482       0    0    0    0    0    0    0    0    0  ...   \n",
       "\n",
       "       build_tech_1.0  build_tech_2.0  balcon_0  balcon_1  balcon_2     floor  \\\n",
       "0                   1               0         1         0         0 -0.838549   \n",
       "1                   0               0         1         0         0 -0.582362   \n",
       "2                   1               0         1         0         0 -0.069987   \n",
       "3                   0               0         1         0         0 -1.094736   \n",
       "4                   0               1         0         0         1  2.748075   \n",
       "...               ...             ...       ...       ...       ...       ...   \n",
       "69995               1               0         1         0         0 -1.094736   \n",
       "69996               0               0         1         0         0 -0.069987   \n",
       "69997               0               0         1         0         0 -0.326174   \n",
       "69998               1               0         1         0         0 -0.582362   \n",
       "69999               0               0         1         0         0  0.442388   \n",
       "\n",
       "           area     rooms  metro_dist  n_photos  \n",
       "0      0.380205  1.063414    0.971499  1.302402  \n",
       "1      0.436463  1.063414    0.351639  0.272678  \n",
       "2     -0.013602 -0.142056    0.971499 -0.757045  \n",
       "3     -1.082507 -1.347527    0.971499 -1.271907  \n",
       "4     -0.463668 -1.347527   -0.268221 -0.757045  \n",
       "...         ...       ...         ...       ...  \n",
       "69995  0.492721  1.063414   -2.127801  1.817263  \n",
       "69996 -1.251282 -1.347527    0.971499 -0.757045  \n",
       "69997 -1.026249 -1.347527    0.971499 -0.757045  \n",
       "69998 -0.013602 -0.142056   -2.127801  0.787540  \n",
       "69999  0.267688 -0.142056   -2.127801 -1.271907  \n",
       "\n",
       "[70000 rows x 27 columns]"
      ]
     },
     "execution_count": 600,
     "metadata": {},
     "output_type": "execute_result"
    }
   ],
   "source": [
    "train_df"
   ]
  },
  {
   "cell_type": "code",
   "execution_count": null,
   "metadata": {
    "cellId": "lo3fvn1t6qx5wulp163d"
   },
   "outputs": [],
   "source": []
  }
 ],
 "metadata": {
  "colab": {
   "collapsed_sections": [],
   "name": "house-prices.ipynb",
   "provenance": []
  },
  "kernelspec": {
   "display_name": "Yandex DataSphere Kernel",
   "language": "python",
   "name": "python3"
  },
  "language_info": {
   "codemirror_mode": {
    "name": "ipython",
    "version": 3
   },
   "file_extension": ".py",
   "mimetype": "text/x-python",
   "name": "python",
   "nbconvert_exporter": "python",
   "pygments_lexer": "ipython3",
   "version": "3.7.7"
  },
  "notebookId": "753db8e2-418a-4f4a-9923-579d3940a1ba",
  "notebookPath": "house_prices.ipynb"
 },
 "nbformat": 4,
 "nbformat_minor": 4
}
