{
  "nbformat": 4,
  "nbformat_minor": 0,
  "metadata": {
    "colab": {
      "name": "fake_real_faces.ipynb",
      "provenance": [],
      "collapsed_sections": []
    },
    "kernelspec": {
      "name": "python3",
      "display_name": "Python 3"
    },
    "language_info": {
      "name": "python"
    }
  },
  "cells": [
    {
      "cell_type": "code",
      "source": [
        "!pip install zipfile"
      ],
      "metadata": {
        "colab": {
          "base_uri": "https://localhost:8080/"
        },
        "id": "sL2FPfNX0v7U",
        "outputId": "5f30e437-b6b6-41ad-849c-2a4d7ef4ffe8"
      },
      "execution_count": 1,
      "outputs": [
        {
          "output_type": "stream",
          "name": "stdout",
          "text": [
            "\u001b[31mERROR: Could not find a version that satisfies the requirement zipfile (from versions: none)\u001b[0m\n",
            "\u001b[31mERROR: No matching distribution found for zipfile\u001b[0m\n"
          ]
        }
      ]
    },
    {
      "cell_type": "code",
      "execution_count": 2,
      "metadata": {
        "id": "mPXFiB1OQPbm"
      },
      "outputs": [],
      "source": [
        "import torch\n",
        "import torch.optim as optim\n",
        "from pathlib import Path\n",
        "from torch.utils.data import Dataset, DataLoader\n",
        "from torchvision import transforms\n",
        "import numpy as np\n",
        "import random\n",
        "from PIL import Image\n",
        "import shutil\n",
        "import os\n",
        "import zipfile\n",
        "import matplotlib.pyplot as plt\n",
        "from tqdm import trange\n",
        "import cv2\n",
        "import glob\n",
        "from sklearn.model_selection import train_test_split\n",
        "from torchvision import datasets, models, transforms\n",
        "from IPython.display import clear_output\n",
        "import pandas as pd\n",
        "import numpy as np\n",
        "import torchvision"
      ]
    },
    {
      "cell_type": "code",
      "source": [
        "from google.colab import drive\n",
        "drive.mount('/content/drive')"
      ],
      "metadata": {
        "colab": {
          "base_uri": "https://localhost:8080/"
        },
        "id": "VB5BwFgTqYox",
        "outputId": "63c376ff-a097-4c38-967a-c1a7723f1256"
      },
      "execution_count": 3,
      "outputs": [
        {
          "output_type": "stream",
          "name": "stdout",
          "text": [
            "Drive already mounted at /content/drive; to attempt to forcibly remount, call drive.mount(\"/content/drive\", force_remount=True).\n"
          ]
        }
      ]
    },
    {
      "cell_type": "code",
      "source": [
        "z = zipfile.ZipFile('/content/drive/MyDrive/archive.zip')\n",
        "z.extractall()"
      ],
      "metadata": {
        "id": "jA8GlJXk01lL"
      },
      "execution_count": 4,
      "outputs": []
    },
    {
      "cell_type": "markdown",
      "source": [
        "# FaceDataset"
      ],
      "metadata": {
        "id": "BEpuShv6qzhh"
      }
    },
    {
      "cell_type": "code",
      "source": [
        "main_dir = '/content/real_vs_fake/real-vs-fake/'"
      ],
      "metadata": {
        "id": "FP7Foo8K3DnL"
      },
      "execution_count": 5,
      "outputs": []
    },
    {
      "cell_type": "code",
      "source": [
        "train_df = pd.read_csv('/content/train.csv')\n",
        "valid_df = pd.read_csv('/content/valid.csv')\n",
        "test_df = pd.read_csv('/content/test.csv')"
      ],
      "metadata": {
        "id": "WGnW4CbQ3kGF"
      },
      "execution_count": 6,
      "outputs": []
    },
    {
      "cell_type": "code",
      "source": [
        "train_df = train_df.sample(frac = 1)\n",
        "valid_df = valid_df.sample(frac = 1)\n",
        "test_df = test_df.sample(frac = 1)\n",
        "train_files = np.array([main_dir + path for path in train_df['path']])\n",
        "val_files = np.array([main_dir + path for path in valid_df['path']])\n",
        "test_files = np.array([main_dir + path for path in test_df['path']])\n",
        "train_labels = np.array([l for l in train_df['label']])\n",
        "val_labels = np.array([l for l in valid_df['label']])\n",
        "test_labels = np.array([l for l in test_df['label']])"
      ],
      "metadata": {
        "id": "KXGezoPm5LUw"
      },
      "execution_count": 7,
      "outputs": []
    },
    {
      "cell_type": "code",
      "source": [
        "class FaceDataset(Dataset):\n",
        "      def __init__(self, files, labels, transform):\n",
        "          super().__init__()\n",
        "          self.data = files\n",
        "          self.labels = labels\n",
        "          self.transform = transform\n",
        "\n",
        "      def __len__(self):\n",
        "          return len(self.data)\n",
        "\n",
        "      def __getitem__(self, index):\n",
        "          x = cv2.imread(self.data[index])\n",
        "          x = cv2.cvtColor(x, cv2.COLOR_BGR2RGB)\n",
        "          x = Image.fromarray(x)\n",
        "          if self.transform is not None:\n",
        "             x = self.transform(x)\n",
        "          y = torch.tensor(self.labels[index]).long()\n",
        "          return x, y\n",
        "\n",
        "      def visualize(self, index):\n",
        "          x = cv2.imread(self.data[index])\n",
        "          x = cv2.cvtColor(x, cv2.COLOR_BGR2RGB)\n",
        "          plt.figure(figsize=(10, 10))\n",
        "          plt.axis('off')\n",
        "          plt.imshow(x)"
      ],
      "metadata": {
        "id": "WadYTVIxqjEk"
      },
      "execution_count": 8,
      "outputs": []
    },
    {
      "cell_type": "code",
      "source": [
        "train_transform = transforms.Compose([\n",
        "    transforms.Resize(256),\n",
        "    transforms.RandomHorizontalFlip(),\n",
        "    transforms.ToTensor(),\n",
        "    transforms.Normalize(mean=[0.485, 0.456, 0.406],\n",
        "                          std=[0.229, 0.224, 0.225]),\n",
        "])\n",
        "\n",
        "valid_transform = transforms.Compose([\n",
        "    transforms.Resize(256),\n",
        "    transforms.ToTensor(),\n",
        "    transforms.Normalize(mean=[0.485, 0.456, 0.406],\n",
        "                          std=[0.229, 0.224, 0.225]),\n",
        "])"
      ],
      "metadata": {
        "id": "bL1YGndlreGO"
      },
      "execution_count": 9,
      "outputs": []
    },
    {
      "cell_type": "markdown",
      "source": [
        "# Dataset and DataLoader"
      ],
      "metadata": {
        "id": "XdaeHXuvtW-l"
      }
    },
    {
      "cell_type": "code",
      "source": [
        "train_dataset = FaceDataset(train_files, train_labels, train_transform)\n",
        "valid_dataset = FaceDataset(val_files, val_labels, valid_transform)"
      ],
      "metadata": {
        "id": "zZnWBFVIub5Q"
      },
      "execution_count": 10,
      "outputs": []
    },
    {
      "cell_type": "code",
      "source": [
        "train_loader = torch.utils.data.DataLoader(dataset=train_dataset,\n",
        "                                           batch_size=64,\n",
        "                                           shuffle=True,\n",
        "                                           pin_memory=True,\n",
        "                                           num_workers=2)\n",
        "\n",
        "valid_loader = torch.utils.data.DataLoader(dataset=valid_dataset,\n",
        "                                           batch_size=64,\n",
        "                                           # shuffle=True,\n",
        "                                           pin_memory=True,\n",
        "                                           num_workers=2)"
      ],
      "metadata": {
        "id": "yE4JDQPt_XRk"
      },
      "execution_count": 11,
      "outputs": []
    },
    {
      "cell_type": "markdown",
      "source": [
        "# Neptun.ai"
      ],
      "metadata": {
        "id": "XkWogQ7KAsC_"
      }
    },
    {
      "cell_type": "code",
      "source": [
        "%pip install neptune-client"
      ],
      "metadata": {
        "colab": {
          "base_uri": "https://localhost:8080/"
        },
        "id": "UWBXc5J3uU78",
        "outputId": "25d653cd-c69f-47bb-b3ba-fff4d9fe44e2"
      },
      "execution_count": 12,
      "outputs": [
        {
          "output_type": "stream",
          "name": "stdout",
          "text": [
            "Requirement already satisfied: neptune-client in /usr/local/lib/python3.7/dist-packages (0.15.2)\n",
            "Requirement already satisfied: requests-oauthlib>=1.0.0 in /usr/local/lib/python3.7/dist-packages (from neptune-client) (1.3.1)\n",
            "Requirement already satisfied: pandas in /usr/local/lib/python3.7/dist-packages (from neptune-client) (1.3.5)\n",
            "Requirement already satisfied: websocket-client!=1.0.0,>=0.35.0 in /usr/local/lib/python3.7/dist-packages (from neptune-client) (1.3.2)\n",
            "Requirement already satisfied: boto3>=1.16.0 in /usr/local/lib/python3.7/dist-packages (from neptune-client) (1.21.34)\n",
            "Requirement already satisfied: psutil in /usr/local/lib/python3.7/dist-packages (from neptune-client) (5.4.8)\n",
            "Requirement already satisfied: bravado in /usr/local/lib/python3.7/dist-packages (from neptune-client) (11.0.3)\n",
            "Requirement already satisfied: Pillow>=1.1.6 in /usr/local/lib/python3.7/dist-packages (from neptune-client) (7.1.2)\n",
            "Requirement already satisfied: requests>=2.20.0 in /usr/local/lib/python3.7/dist-packages (from neptune-client) (2.23.0)\n",
            "Requirement already satisfied: six>=1.12.0 in /usr/local/lib/python3.7/dist-packages (from neptune-client) (1.15.0)\n",
            "Requirement already satisfied: GitPython>=2.0.8 in /usr/local/lib/python3.7/dist-packages (from neptune-client) (3.1.27)\n",
            "Requirement already satisfied: click>=7.0 in /usr/local/lib/python3.7/dist-packages (from neptune-client) (7.1.2)\n",
            "Requirement already satisfied: urllib3 in /usr/local/lib/python3.7/dist-packages (from neptune-client) (1.25.11)\n",
            "Requirement already satisfied: swagger-spec-validator>=2.7.4 in /usr/local/lib/python3.7/dist-packages (from neptune-client) (2.7.4)\n",
            "Requirement already satisfied: oauthlib>=2.1.0 in /usr/local/lib/python3.7/dist-packages (from neptune-client) (3.2.0)\n",
            "Requirement already satisfied: packaging in /usr/local/lib/python3.7/dist-packages (from neptune-client) (21.3)\n",
            "Requirement already satisfied: future>=0.17.1 in /usr/local/lib/python3.7/dist-packages (from neptune-client) (0.18.2)\n",
            "Requirement already satisfied: PyJWT in /usr/local/lib/python3.7/dist-packages (from neptune-client) (2.3.0)\n",
            "Requirement already satisfied: s3transfer<0.6.0,>=0.5.0 in /usr/local/lib/python3.7/dist-packages (from boto3>=1.16.0->neptune-client) (0.5.2)\n",
            "Requirement already satisfied: botocore<1.25.0,>=1.24.34 in /usr/local/lib/python3.7/dist-packages (from boto3>=1.16.0->neptune-client) (1.24.34)\n",
            "Requirement already satisfied: jmespath<2.0.0,>=0.7.1 in /usr/local/lib/python3.7/dist-packages (from boto3>=1.16.0->neptune-client) (1.0.0)\n",
            "Requirement already satisfied: python-dateutil<3.0.0,>=2.1 in /usr/local/lib/python3.7/dist-packages (from botocore<1.25.0,>=1.24.34->boto3>=1.16.0->neptune-client) (2.8.2)\n",
            "Requirement already satisfied: gitdb<5,>=4.0.1 in /usr/local/lib/python3.7/dist-packages (from GitPython>=2.0.8->neptune-client) (4.0.9)\n",
            "Requirement already satisfied: typing-extensions>=3.7.4.3 in /usr/local/lib/python3.7/dist-packages (from GitPython>=2.0.8->neptune-client) (3.10.0.2)\n",
            "Requirement already satisfied: smmap<6,>=3.0.1 in /usr/local/lib/python3.7/dist-packages (from gitdb<5,>=4.0.1->GitPython>=2.0.8->neptune-client) (5.0.0)\n",
            "Requirement already satisfied: certifi>=2017.4.17 in /usr/local/lib/python3.7/dist-packages (from requests>=2.20.0->neptune-client) (2021.10.8)\n",
            "Requirement already satisfied: chardet<4,>=3.0.2 in /usr/local/lib/python3.7/dist-packages (from requests>=2.20.0->neptune-client) (3.0.4)\n",
            "Requirement already satisfied: idna<3,>=2.5 in /usr/local/lib/python3.7/dist-packages (from requests>=2.20.0->neptune-client) (2.10)\n",
            "Requirement already satisfied: pyyaml in /usr/local/lib/python3.7/dist-packages (from swagger-spec-validator>=2.7.4->neptune-client) (3.13)\n",
            "Requirement already satisfied: jsonschema in /usr/local/lib/python3.7/dist-packages (from swagger-spec-validator>=2.7.4->neptune-client) (4.3.3)\n",
            "Requirement already satisfied: bravado-core>=5.16.1 in /usr/local/lib/python3.7/dist-packages (from bravado->neptune-client) (5.17.0)\n",
            "Requirement already satisfied: msgpack in /usr/local/lib/python3.7/dist-packages (from bravado->neptune-client) (1.0.3)\n",
            "Requirement already satisfied: monotonic in /usr/local/lib/python3.7/dist-packages (from bravado->neptune-client) (1.6)\n",
            "Requirement already satisfied: simplejson in /usr/local/lib/python3.7/dist-packages (from bravado->neptune-client) (3.17.6)\n",
            "Requirement already satisfied: pytz in /usr/local/lib/python3.7/dist-packages (from bravado-core>=5.16.1->bravado->neptune-client) (2018.9)\n",
            "Requirement already satisfied: jsonref in /usr/local/lib/python3.7/dist-packages (from bravado-core>=5.16.1->bravado->neptune-client) (0.2)\n",
            "Requirement already satisfied: importlib-resources>=1.4.0 in /usr/local/lib/python3.7/dist-packages (from jsonschema->swagger-spec-validator>=2.7.4->neptune-client) (5.4.0)\n",
            "Requirement already satisfied: importlib-metadata in /usr/local/lib/python3.7/dist-packages (from jsonschema->swagger-spec-validator>=2.7.4->neptune-client) (4.11.3)\n",
            "Requirement already satisfied: pyrsistent!=0.17.0,!=0.17.1,!=0.17.2,>=0.14.0 in /usr/local/lib/python3.7/dist-packages (from jsonschema->swagger-spec-validator>=2.7.4->neptune-client) (0.18.1)\n",
            "Requirement already satisfied: attrs>=17.4.0 in /usr/local/lib/python3.7/dist-packages (from jsonschema->swagger-spec-validator>=2.7.4->neptune-client) (21.4.0)\n",
            "Requirement already satisfied: fqdn in /usr/local/lib/python3.7/dist-packages (from jsonschema->swagger-spec-validator>=2.7.4->neptune-client) (1.5.1)\n",
            "Requirement already satisfied: isoduration in /usr/local/lib/python3.7/dist-packages (from jsonschema->swagger-spec-validator>=2.7.4->neptune-client) (20.11.0)\n",
            "Requirement already satisfied: webcolors>=1.11 in /usr/local/lib/python3.7/dist-packages (from jsonschema->swagger-spec-validator>=2.7.4->neptune-client) (1.11.1)\n",
            "Requirement already satisfied: uri-template in /usr/local/lib/python3.7/dist-packages (from jsonschema->swagger-spec-validator>=2.7.4->neptune-client) (1.2.0)\n",
            "Requirement already satisfied: rfc3339-validator in /usr/local/lib/python3.7/dist-packages (from jsonschema->swagger-spec-validator>=2.7.4->neptune-client) (0.1.4)\n",
            "Requirement already satisfied: rfc3987 in /usr/local/lib/python3.7/dist-packages (from jsonschema->swagger-spec-validator>=2.7.4->neptune-client) (1.3.8)\n",
            "Requirement already satisfied: jsonpointer>1.13 in /usr/local/lib/python3.7/dist-packages (from jsonschema->swagger-spec-validator>=2.7.4->neptune-client) (2.2)\n",
            "Requirement already satisfied: zipp>=3.1.0 in /usr/local/lib/python3.7/dist-packages (from importlib-resources>=1.4.0->jsonschema->swagger-spec-validator>=2.7.4->neptune-client) (3.7.0)\n",
            "Requirement already satisfied: cached-property>=1.3.0 in /usr/local/lib/python3.7/dist-packages (from fqdn->jsonschema->swagger-spec-validator>=2.7.4->neptune-client) (1.5.2)\n",
            "Requirement already satisfied: arrow>=0.15.0 in /usr/local/lib/python3.7/dist-packages (from isoduration->jsonschema->swagger-spec-validator>=2.7.4->neptune-client) (1.2.2)\n",
            "Requirement already satisfied: pyparsing!=3.0.5,>=2.0.2 in /usr/local/lib/python3.7/dist-packages (from packaging->neptune-client) (3.0.7)\n",
            "Requirement already satisfied: numpy>=1.17.3 in /usr/local/lib/python3.7/dist-packages (from pandas->neptune-client) (1.21.5)\n"
          ]
        }
      ]
    },
    {
      "cell_type": "code",
      "source": [
        "from torch.optim import lr_scheduler\n",
        "import neptune.new as neptune\n",
        "os.environ['NEPTUNE_API_TOKEN'] = 'eyJhcGlfYWRkcmVzcyI6Imh0dHBzOi8vYXBwLm5lcHR1bmUuYWkiLCJhcGlfdXJsIjoiaHR0cHM6Ly9hcHAubmVwdHVuZS5haSIsImFwaV9rZXkiOiIwYTk5MTQwZC1mYmVmLTQ1MTItYjA0ZC05NTdjYzNjNjRhMmEifQ=='\n",
        "run = neptune.init(\n",
        "    api_token= os.getenv('NEPTUNE_API_TOKEN'),\n",
        "    project = 'misha/fake-faces'\n",
        ")"
      ],
      "metadata": {
        "colab": {
          "base_uri": "https://localhost:8080/"
        },
        "id": "mSk1YTLLAv2H",
        "outputId": "e88f5cc6-0adf-46fc-db11-5b4d6d88a725"
      },
      "execution_count": 13,
      "outputs": [
        {
          "output_type": "stream",
          "name": "stdout",
          "text": [
            "https://app.neptune.ai/misha/fake-faces/e/FAK-10\n",
            "Remember to stop your run once you’ve finished logging your metadata (https://docs.neptune.ai/api-reference/run#.stop). It will be stopped automatically only when the notebook kernel/interactive console is terminated.\n"
          ]
        }
      ]
    },
    {
      "cell_type": "markdown",
      "source": [
        "# Train"
      ],
      "metadata": {
        "id": "Xc70MdVqDvj0"
      }
    },
    {
      "cell_type": "code",
      "source": [
        "def train(train_dataloader, val_dataloader, model, epochs, batch_size):\n",
        "    opt = torch.optim.Adam(model.parameters(), lr=5e-4)\n",
        "    criterion = torch.nn.CrossEntropyLoss()\n",
        "        \n",
        "    run['model/parameters/n_epochs'] = epochs\n",
        "        \n",
        "    for epoch in trange(epochs, desc=\"Epoch:\"):\n",
        "        train_loss, train_acc = fit_epoch(model, train_dataloader, criterion, opt)\n",
        "        val_loss, val_acc = eval_epoch(model, val_dataloader, criterion)\n",
        "        run['train/epoch/loss'].log(train_loss)\n",
        "        run['train/epoch/accuracy'].log(train_acc)\n",
        "                      "
      ],
      "metadata": {
        "id": "Q6wdarUkDz93"
      },
      "execution_count": 14,
      "outputs": []
    },
    {
      "cell_type": "code",
      "source": [
        "def fit_epoch(model, train_loader, criterion, opt):\n",
        "    model.train()\n",
        "    total_acc=0\n",
        "    total_loss=0\n",
        "    num_pictures=0\n",
        "    num_batches=0\n",
        "    for x_train, y_train in train_loader:\n",
        "        x_train = x_train.to(torch.device(\"cuda\"))\n",
        "        y_train = y_train.to(torch.device(\"cuda\"))\n",
        "        opt.zero_grad()\n",
        "        predictions = model(x_train)\n",
        "        loss = criterion(predictions, y_train)\n",
        "        loss.backward()\n",
        "        opt.step()\n",
        "        \n",
        "        pred_labels = torch.argmax(predictions, 1)\n",
        "        total_acc += torch.sum(pred_labels == y_train)\n",
        "        total_loss += loss.item() #mean loss for batch\n",
        "        num_pictures += len(y_train) #number of pictures\n",
        "        num_batches += 1 #number of batches\n",
        "        run[\"train/accuracy\"].log(torch.sum(pred_labels == y_train)/len(y_train))\n",
        "        run[\"train/loss\"].log(loss.item())\n",
        "    return total_loss/num_batches, total_acc/num_pictures"
      ],
      "metadata": {
        "id": "bVjAItgTEbyn"
      },
      "execution_count": 15,
      "outputs": []
    },
    {
      "cell_type": "code",
      "source": [
        "def eval_epoch(model, val_loader, criterion):\n",
        "    model.eval()\n",
        "    total_acc=0\n",
        "    total_loss=0\n",
        "    num_pictures=0\n",
        "    num_batches=0\n",
        "    for x_train, y_train in val_loader:\n",
        "        x_train = x_train.to(torch.device(\"cuda\"))\n",
        "        y_train = y_train.to(torch.device(\"cuda\"))\n",
        "        with torch.no_grad():\n",
        "             predictions = model(x_train)\n",
        "             loss = criterion(predictions, y_train)\n",
        "             pred_labels = torch.argmax(predictions, 1)\n",
        "\n",
        "             total_acc += torch.sum(pred_labels == y_train)\n",
        "             total_loss += loss.item() #mean loss for batch\n",
        "             num_pictures += len(y_train) #number of pictures\n",
        "             num_batches += 1 #number of batches\n",
        "             run[\"evaluation/accuracy\"].log(torch.sum(pred_labels == y_train)/len(y_train))\n",
        "             run[\"evaluation/loss\"].log(loss.item())\n",
        "    return total_loss/num_batches, total_acc/num_pictures"
      ],
      "metadata": {
        "id": "IAJWe-TNEXG1"
      },
      "execution_count": 16,
      "outputs": []
    },
    {
      "cell_type": "markdown",
      "source": [
        "# Model"
      ],
      "metadata": {
        "id": "iKIXEDeDGZE9"
      }
    },
    {
      "cell_type": "code",
      "source": [
        "!pip install efficientnet_pytorch"
      ],
      "metadata": {
        "colab": {
          "base_uri": "https://localhost:8080/"
        },
        "id": "-T7Ef8DeN4PN",
        "outputId": "70eba89f-ea40-4176-de43-2e3873f1b3b4"
      },
      "execution_count": 17,
      "outputs": [
        {
          "output_type": "stream",
          "name": "stdout",
          "text": [
            "Requirement already satisfied: efficientnet_pytorch in /usr/local/lib/python3.7/dist-packages (0.7.1)\n",
            "Requirement already satisfied: torch in /usr/local/lib/python3.7/dist-packages (from efficientnet_pytorch) (1.10.0+cu111)\n",
            "Requirement already satisfied: typing-extensions in /usr/local/lib/python3.7/dist-packages (from torch->efficientnet_pytorch) (3.10.0.2)\n"
          ]
        }
      ]
    },
    {
      "cell_type": "code",
      "source": [
        "from efficientnet_pytorch import EfficientNet"
      ],
      "metadata": {
        "id": "BuziSKesN7r6"
      },
      "execution_count": 18,
      "outputs": []
    },
    {
      "cell_type": "code",
      "source": [
        "model = EfficientNet.from_pretrained('efficientnet-b3')"
      ],
      "metadata": {
        "colab": {
          "base_uri": "https://localhost:8080/"
        },
        "id": "COw0crKXFX1f",
        "outputId": "95625abd-56b7-41e3-c7bd-cc8b731ce438"
      },
      "execution_count": 19,
      "outputs": [
        {
          "output_type": "stream",
          "name": "stdout",
          "text": [
            "Loaded pretrained weights for efficientnet-b3\n"
          ]
        }
      ]
    },
    {
      "cell_type": "code",
      "source": [
        "for param in  model.parameters():\n",
        "    param.requires_grad=False\n",
        "for param in model._blocks[22:].parameters():\n",
        "    param.requires_grad=True\n",
        "model._conv_head.requires_grad=True\n",
        "model._bn1.requires_grad=True\n",
        "model._avg_pooling.requires_grad=True\n",
        "model._dropout.requires_grad=True\n",
        "model._fc.requires_grad=True"
      ],
      "metadata": {
        "id": "6mwgfoTZ23x3"
      },
      "execution_count": 20,
      "outputs": []
    },
    {
      "cell_type": "code",
      "source": [
        "n_classes = 2\n",
        "num_features = 1536\n",
        "model._fc = torch.nn.Linear(in_features=num_features, out_features=n_classes)"
      ],
      "metadata": {
        "id": "nZGWYKwtISrF"
      },
      "execution_count": 21,
      "outputs": []
    },
    {
      "cell_type": "code",
      "source": [
        "if torch.cuda.is_available():\n",
        "    model = model.cuda()"
      ],
      "metadata": {
        "id": "CbKt0-FwIo1q"
      },
      "execution_count": 22,
      "outputs": []
    },
    {
      "cell_type": "markdown",
      "source": [
        "# Run train"
      ],
      "metadata": {
        "id": "q0k5KwmWIydH"
      }
    },
    {
      "cell_type": "code",
      "source": [
        "train(train_loader, valid_loader, model, 3, 128)"
      ],
      "metadata": {
        "colab": {
          "base_uri": "https://localhost:8080/"
        },
        "id": "47sXunXoIxj9",
        "outputId": "af5bcc6d-a31e-4849-bd99-2c86cf5451e8"
      },
      "execution_count": 23,
      "outputs": [
        {
          "output_type": "stream",
          "name": "stderr",
          "text": [
            "Epoch:: 100%|██████████| 3/3 [34:18<00:00, 686.32s/it]\n"
          ]
        }
      ]
    },
    {
      "cell_type": "code",
      "source": [
        "torch.save(model,'model_5')"
      ],
      "metadata": {
        "id": "Cyt0PP6HR9uJ"
      },
      "execution_count": 30,
      "outputs": []
    },
    {
      "cell_type": "markdown",
      "source": [
        "# Test predictions"
      ],
      "metadata": {
        "id": "DMzq1v8LPBcW"
      }
    },
    {
      "cell_type": "code",
      "source": [
        "class TestFaceDataset(Dataset):\n",
        "    def __init__(self, files, transform=None):\n",
        "        self.data = files\n",
        "        self.transform = transform\n",
        "\n",
        "    def __getitem__(self, idx):\n",
        "        # читаем картинку\n",
        "        image = cv2.imread(self.data[idx])\n",
        "        image = cv2.cvtColor(image, cv2.COLOR_BGR2RGB)\n",
        "        image = Image.fromarray(image)\n",
        "        \n",
        "        # преобразуем, если нужно\n",
        "        if self.transform:\n",
        "            image = self.transform(image)\n",
        "        \n",
        "        return image\n",
        "    \n",
        "    def __len__(self):\n",
        "        return len(self.data)"
      ],
      "metadata": {
        "id": "hwLYNyHURlBn"
      },
      "execution_count": 31,
      "outputs": []
    },
    {
      "cell_type": "code",
      "source": [
        "test_dataset = TestFaceDataset(test_files, valid_transform)\n",
        "test_loader = torch.utils.data.DataLoader(dataset=test_dataset,\n",
        "                                           batch_size=64,\n",
        "                                           shuffle = False,\n",
        "                                           pin_memory=True,\n",
        "                                           num_workers=2)"
      ],
      "metadata": {
        "id": "MYlkaOeARLdu"
      },
      "execution_count": 32,
      "outputs": []
    },
    {
      "cell_type": "code",
      "source": [
        "def make_prediction(model, test_loader):\n",
        "     model.eval()\n",
        "     preds = []\n",
        "     for batch in test_loader:\n",
        "        batch = batch.to(torch.device(\"cuda\"))\n",
        "        with torch.no_grad():\n",
        "             predictions = model(batch)\n",
        "             y_preds = torch.argmax(predictions, 1)\n",
        "             preds.extend(y_preds.tolist())\n",
        "     return preds"
      ],
      "metadata": {
        "id": "3CnZWFWzRbPo"
      },
      "execution_count": 60,
      "outputs": []
    },
    {
      "cell_type": "code",
      "source": [
        "preds_list = np.array(make_prediction(model, test_loader))"
      ],
      "metadata": {
        "id": "oJnpbtfdki41"
      },
      "execution_count": 61,
      "outputs": []
    },
    {
      "cell_type": "code",
      "source": [
        "preds_list"
      ],
      "metadata": {
        "colab": {
          "base_uri": "https://localhost:8080/"
        },
        "id": "8UGgKB1s1_9x",
        "outputId": "e45f6320-7943-4c1b-93cf-2b8c59162b2b"
      },
      "execution_count": 62,
      "outputs": [
        {
          "output_type": "execute_result",
          "data": {
            "text/plain": [
              "array([1, 1, 0, ..., 0, 0, 0])"
            ]
          },
          "metadata": {},
          "execution_count": 62
        }
      ]
    },
    {
      "cell_type": "code",
      "source": [
        "from sklearn.metrics import accuracy_score\n",
        "accuracy_score(test_labels, preds_list)"
      ],
      "metadata": {
        "id": "jGbgUKd0VLD3",
        "colab": {
          "base_uri": "https://localhost:8080/"
        },
        "outputId": "eed4f09e-105d-4362-a4b9-51e677d16ff9"
      },
      "execution_count": 63,
      "outputs": [
        {
          "output_type": "execute_result",
          "data": {
            "text/plain": [
              "0.988"
            ]
          },
          "metadata": {},
          "execution_count": 63
        }
      ]
    }
  ]
}