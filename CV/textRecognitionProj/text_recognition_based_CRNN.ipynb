{
  "cells": [
    {
      "cell_type": "markdown",
      "metadata": {
        "id": "ba37bcb2"
      },
      "source": [
        "# Загрузка данных в среду"
      ],
      "id": "ba37bcb2"
    },
    {
      "cell_type": "code",
      "execution_count": 1,
      "metadata": {
        "colab": {
          "base_uri": "https://localhost:8080/"
        },
        "id": "FRY24FRjYEJh",
        "outputId": "5c813995-d945-406d-85a1-cbbee7bfe7e5"
      },
      "outputs": [
        {
          "output_type": "stream",
          "name": "stdout",
          "text": [
            "Drive already mounted at /content/drive; to attempt to forcibly remount, call drive.mount(\"/content/drive\", force_remount=True).\n"
          ]
        }
      ],
      "source": [
        "from google.colab import drive\n",
        "drive.mount('/content/drive')"
      ],
      "id": "FRY24FRjYEJh"
    },
    {
      "cell_type": "code",
      "execution_count": 2,
      "metadata": {
        "colab": {
          "base_uri": "https://localhost:8080/"
        },
        "id": "hsYRJXIFYEvT",
        "outputId": "f094abc8-a694-478e-cb69-ffc1b3f66f4f"
      },
      "outputs": [
        {
          "output_type": "stream",
          "name": "stdout",
          "text": [
            "\u001b[31mERROR: Could not find a version that satisfies the requirement zipfile (from versions: none)\u001b[0m\n",
            "\u001b[31mERROR: No matching distribution found for zipfile\u001b[0m\n"
          ]
        }
      ],
      "source": [
        "!pip install zipfile"
      ],
      "id": "hsYRJXIFYEvT"
    },
    {
      "cell_type": "code",
      "execution_count": 3,
      "metadata": {
        "id": "6xWuRXfMYH-_"
      },
      "outputs": [],
      "source": [
        "import zipfile\n",
        "z = zipfile.ZipFile(\"/content/drive/MyDrive/text-recognition.zip\")"
      ],
      "id": "6xWuRXfMYH-_"
    },
    {
      "cell_type": "code",
      "execution_count": 4,
      "metadata": {
        "id": "E4xLVAzzz6Yr"
      },
      "outputs": [],
      "source": [
        "z.extractall()"
      ],
      "id": "E4xLVAzzz6Yr"
    },
    {
      "cell_type": "markdown",
      "metadata": {
        "id": "bd376467"
      },
      "source": [
        "# Подготовка данных"
      ],
      "id": "bd376467"
    },
    {
      "cell_type": "code",
      "execution_count": 5,
      "metadata": {
        "colab": {
          "base_uri": "https://localhost:8080/"
        },
        "id": "b579c483",
        "outputId": "99e48678-3f20-4075-9b48-f4420ad4bcef"
      },
      "outputs": [
        {
          "output_type": "stream",
          "name": "stdout",
          "text": [
            "Requirement already satisfied: opencv-python in /usr/local/lib/python3.7/dist-packages (4.1.2.30)\n",
            "Requirement already satisfied: numpy>=1.14.5 in /usr/local/lib/python3.7/dist-packages (from opencv-python) (1.21.5)\n"
          ]
        }
      ],
      "source": [
        "!pip install opencv-python"
      ],
      "id": "b579c483"
    },
    {
      "cell_type": "code",
      "execution_count": 6,
      "metadata": {
        "colab": {
          "base_uri": "https://localhost:8080/"
        },
        "id": "QwVqwHrzV8PG",
        "outputId": "92e0f7ab-a4d7-4759-c23d-a28a56df5cd8"
      },
      "outputs": [
        {
          "output_type": "stream",
          "name": "stdout",
          "text": [
            "Requirement already satisfied: neptune-client in /usr/local/lib/python3.7/dist-packages (0.15.2)\n",
            "Requirement already satisfied: packaging in /usr/local/lib/python3.7/dist-packages (from neptune-client) (21.3)\n",
            "Requirement already satisfied: GitPython>=2.0.8 in /usr/local/lib/python3.7/dist-packages (from neptune-client) (3.1.27)\n",
            "Requirement already satisfied: requests-oauthlib>=1.0.0 in /usr/local/lib/python3.7/dist-packages (from neptune-client) (1.3.1)\n",
            "Requirement already satisfied: bravado in /usr/local/lib/python3.7/dist-packages (from neptune-client) (11.0.3)\n",
            "Requirement already satisfied: swagger-spec-validator>=2.7.4 in /usr/local/lib/python3.7/dist-packages (from neptune-client) (2.7.4)\n",
            "Requirement already satisfied: future>=0.17.1 in /usr/local/lib/python3.7/dist-packages (from neptune-client) (0.18.2)\n",
            "Requirement already satisfied: websocket-client!=1.0.0,>=0.35.0 in /usr/local/lib/python3.7/dist-packages (from neptune-client) (1.3.2)\n",
            "Requirement already satisfied: Pillow>=1.1.6 in /usr/local/lib/python3.7/dist-packages (from neptune-client) (7.1.2)\n",
            "Requirement already satisfied: oauthlib>=2.1.0 in /usr/local/lib/python3.7/dist-packages (from neptune-client) (3.2.0)\n",
            "Requirement already satisfied: requests>=2.20.0 in /usr/local/lib/python3.7/dist-packages (from neptune-client) (2.23.0)\n",
            "Requirement already satisfied: six>=1.12.0 in /usr/local/lib/python3.7/dist-packages (from neptune-client) (1.15.0)\n",
            "Requirement already satisfied: psutil in /usr/local/lib/python3.7/dist-packages (from neptune-client) (5.4.8)\n",
            "Requirement already satisfied: boto3>=1.16.0 in /usr/local/lib/python3.7/dist-packages (from neptune-client) (1.21.32)\n",
            "Requirement already satisfied: click>=7.0 in /usr/local/lib/python3.7/dist-packages (from neptune-client) (7.1.2)\n",
            "Requirement already satisfied: pandas in /usr/local/lib/python3.7/dist-packages (from neptune-client) (1.3.5)\n",
            "Requirement already satisfied: urllib3 in /usr/local/lib/python3.7/dist-packages (from neptune-client) (1.25.11)\n",
            "Requirement already satisfied: PyJWT in /usr/local/lib/python3.7/dist-packages (from neptune-client) (2.3.0)\n",
            "Requirement already satisfied: s3transfer<0.6.0,>=0.5.0 in /usr/local/lib/python3.7/dist-packages (from boto3>=1.16.0->neptune-client) (0.5.2)\n",
            "Requirement already satisfied: jmespath<2.0.0,>=0.7.1 in /usr/local/lib/python3.7/dist-packages (from boto3>=1.16.0->neptune-client) (1.0.0)\n",
            "Requirement already satisfied: botocore<1.25.0,>=1.24.32 in /usr/local/lib/python3.7/dist-packages (from boto3>=1.16.0->neptune-client) (1.24.32)\n",
            "Requirement already satisfied: python-dateutil<3.0.0,>=2.1 in /usr/local/lib/python3.7/dist-packages (from botocore<1.25.0,>=1.24.32->boto3>=1.16.0->neptune-client) (2.8.2)\n",
            "Requirement already satisfied: gitdb<5,>=4.0.1 in /usr/local/lib/python3.7/dist-packages (from GitPython>=2.0.8->neptune-client) (4.0.9)\n",
            "Requirement already satisfied: typing-extensions>=3.7.4.3 in /usr/local/lib/python3.7/dist-packages (from GitPython>=2.0.8->neptune-client) (3.10.0.2)\n",
            "Requirement already satisfied: smmap<6,>=3.0.1 in /usr/local/lib/python3.7/dist-packages (from gitdb<5,>=4.0.1->GitPython>=2.0.8->neptune-client) (5.0.0)\n",
            "Requirement already satisfied: certifi>=2017.4.17 in /usr/local/lib/python3.7/dist-packages (from requests>=2.20.0->neptune-client) (2021.10.8)\n",
            "Requirement already satisfied: chardet<4,>=3.0.2 in /usr/local/lib/python3.7/dist-packages (from requests>=2.20.0->neptune-client) (3.0.4)\n",
            "Requirement already satisfied: idna<3,>=2.5 in /usr/local/lib/python3.7/dist-packages (from requests>=2.20.0->neptune-client) (2.10)\n",
            "Requirement already satisfied: pyyaml in /usr/local/lib/python3.7/dist-packages (from swagger-spec-validator>=2.7.4->neptune-client) (3.13)\n",
            "Requirement already satisfied: jsonschema in /usr/local/lib/python3.7/dist-packages (from swagger-spec-validator>=2.7.4->neptune-client) (4.3.3)\n",
            "Requirement already satisfied: bravado-core>=5.16.1 in /usr/local/lib/python3.7/dist-packages (from bravado->neptune-client) (5.17.0)\n",
            "Requirement already satisfied: msgpack in /usr/local/lib/python3.7/dist-packages (from bravado->neptune-client) (1.0.3)\n",
            "Requirement already satisfied: monotonic in /usr/local/lib/python3.7/dist-packages (from bravado->neptune-client) (1.6)\n",
            "Requirement already satisfied: simplejson in /usr/local/lib/python3.7/dist-packages (from bravado->neptune-client) (3.17.6)\n",
            "Requirement already satisfied: pytz in /usr/local/lib/python3.7/dist-packages (from bravado-core>=5.16.1->bravado->neptune-client) (2018.9)\n",
            "Requirement already satisfied: jsonref in /usr/local/lib/python3.7/dist-packages (from bravado-core>=5.16.1->bravado->neptune-client) (0.2)\n",
            "Requirement already satisfied: attrs>=17.4.0 in /usr/local/lib/python3.7/dist-packages (from jsonschema->swagger-spec-validator>=2.7.4->neptune-client) (21.4.0)\n",
            "Requirement already satisfied: pyrsistent!=0.17.0,!=0.17.1,!=0.17.2,>=0.14.0 in /usr/local/lib/python3.7/dist-packages (from jsonschema->swagger-spec-validator>=2.7.4->neptune-client) (0.18.1)\n",
            "Requirement already satisfied: importlib-metadata in /usr/local/lib/python3.7/dist-packages (from jsonschema->swagger-spec-validator>=2.7.4->neptune-client) (4.11.3)\n",
            "Requirement already satisfied: importlib-resources>=1.4.0 in /usr/local/lib/python3.7/dist-packages (from jsonschema->swagger-spec-validator>=2.7.4->neptune-client) (5.4.0)\n",
            "Requirement already satisfied: fqdn in /usr/local/lib/python3.7/dist-packages (from jsonschema->swagger-spec-validator>=2.7.4->neptune-client) (1.5.1)\n",
            "Requirement already satisfied: uri-template in /usr/local/lib/python3.7/dist-packages (from jsonschema->swagger-spec-validator>=2.7.4->neptune-client) (1.2.0)\n",
            "Requirement already satisfied: rfc3987 in /usr/local/lib/python3.7/dist-packages (from jsonschema->swagger-spec-validator>=2.7.4->neptune-client) (1.3.8)\n",
            "Requirement already satisfied: jsonpointer>1.13 in /usr/local/lib/python3.7/dist-packages (from jsonschema->swagger-spec-validator>=2.7.4->neptune-client) (2.2)\n",
            "Requirement already satisfied: rfc3339-validator in /usr/local/lib/python3.7/dist-packages (from jsonschema->swagger-spec-validator>=2.7.4->neptune-client) (0.1.4)\n",
            "Requirement already satisfied: webcolors>=1.11 in /usr/local/lib/python3.7/dist-packages (from jsonschema->swagger-spec-validator>=2.7.4->neptune-client) (1.11.1)\n",
            "Requirement already satisfied: isoduration in /usr/local/lib/python3.7/dist-packages (from jsonschema->swagger-spec-validator>=2.7.4->neptune-client) (20.11.0)\n",
            "Requirement already satisfied: zipp>=3.1.0 in /usr/local/lib/python3.7/dist-packages (from importlib-resources>=1.4.0->jsonschema->swagger-spec-validator>=2.7.4->neptune-client) (3.7.0)\n",
            "Requirement already satisfied: cached-property>=1.3.0 in /usr/local/lib/python3.7/dist-packages (from fqdn->jsonschema->swagger-spec-validator>=2.7.4->neptune-client) (1.5.2)\n",
            "Requirement already satisfied: arrow>=0.15.0 in /usr/local/lib/python3.7/dist-packages (from isoduration->jsonschema->swagger-spec-validator>=2.7.4->neptune-client) (1.2.2)\n",
            "Requirement already satisfied: pyparsing!=3.0.5,>=2.0.2 in /usr/local/lib/python3.7/dist-packages (from packaging->neptune-client) (3.0.7)\n",
            "Requirement already satisfied: numpy>=1.17.3 in /usr/local/lib/python3.7/dist-packages (from pandas->neptune-client) (1.21.5)\n"
          ]
        }
      ],
      "source": [
        "!pip install neptune-client"
      ],
      "id": "QwVqwHrzV8PG"
    },
    {
      "cell_type": "code",
      "execution_count": 7,
      "metadata": {
        "id": "80a940ff"
      },
      "outputs": [],
      "source": [
        "import torch\n",
        "import torch.nn as nn\n",
        "import torchvision\n",
        "from torch.utils.data import Dataset, DataLoader\n",
        "from torch.nn.utils.rnn import pad_sequence\n",
        "from torchvision import transforms\n",
        "from pathlib import Path\n",
        "import numpy as np\n",
        "import cv2\n",
        "import os\n",
        "import json\n",
        "from matplotlib import pyplot as plt"
      ],
      "id": "80a940ff"
    },
    {
      "cell_type": "code",
      "execution_count": 8,
      "metadata": {
        "id": "DtEHRQxqCAVh"
      },
      "outputs": [],
      "source": [
        "os.environ[\"NEPTUNE_API_TOKEN\"] = 'eyJhcGlfYWRkcmVzcyI6Imh0dHBzOi8vYXBwLm5lcHR1bmUuYWkiLCJhcGlfdXJsIjoiaHR0cHM6Ly9hcHAubmVwdHVuZS5haSIsImFwaV9rZXkiOiIwYTk5MTQwZC1mYmVmLTQ1MTItYjA0ZC05NTdjYzNjNjRhMmEifQ=='"
      ],
      "id": "DtEHRQxqCAVh"
    },
    {
      "cell_type": "code",
      "execution_count": 9,
      "metadata": {
        "colab": {
          "base_uri": "https://localhost:8080/"
        },
        "id": "TVKKkuX-Vtkz",
        "outputId": "d00ae602-b31e-4686-d0f5-acb0860468fa"
      },
      "outputs": [
        {
          "output_type": "stream",
          "name": "stdout",
          "text": [
            "https://app.neptune.ai/misha/text-recognition-with-crnn/e/CRNN-5\n",
            "Remember to stop your run once you’ve finished logging your metadata (https://docs.neptune.ai/api-reference/run#.stop). It will be stopped automatically only when the notebook kernel/interactive console is terminated.\n"
          ]
        }
      ],
      "source": [
        "from torch.optim import lr_scheduler\n",
        "import torch.optim as optim\n",
        "from tqdm import trange\n",
        "import neptune.new as neptune\n",
        "run = neptune.init(\n",
        "    api_token= os.getenv('NEPTUNE_API_TOKEN'),\n",
        "    project = 'misha/text-recognition-with-crnn'\n",
        ")"
      ],
      "id": "TVKKkuX-Vtkz"
    },
    {
      "cell_type": "markdown",
      "metadata": {
        "id": "c52dd73b"
      },
      "source": [
        "### разделение текстов по строчкам"
      ],
      "id": "c52dd73b"
    },
    {
      "cell_type": "code",
      "execution_count": 10,
      "metadata": {
        "id": "d74fdb34"
      },
      "outputs": [],
      "source": [
        "train_dir = Path('/content/B.TextRecognition/Train')\n",
        "test_dir = Path('/content/B.TextRecognition/Test')"
      ],
      "id": "d74fdb34"
    },
    {
      "cell_type": "code",
      "execution_count": 11,
      "metadata": {
        "id": "b8497c06"
      },
      "outputs": [],
      "source": [
        "train_data = []\n",
        "train_labels = []"
      ],
      "id": "b8497c06"
    },
    {
      "cell_type": "code",
      "execution_count": 12,
      "metadata": {
        "id": "r77L140XBtWu"
      },
      "outputs": [],
      "source": [
        "os.remove('/content/B.TextRecognition/Train/source_535.png')\n",
        "os.remove('/content/B.TextRecognition/Train/source_580.png')\n",
        "os.remove('/content/B.TextRecognition/Train/source_621.png')"
      ],
      "id": "r77L140XBtWu"
    },
    {
      "cell_type": "code",
      "execution_count": 13,
      "metadata": {
        "id": "6423bfbc"
      },
      "outputs": [],
      "source": [
        "for img in train_dir.rglob('*.png'):\n",
        "    image = cv2.imread(str(img))\n",
        "    train_data.extend([image[i*49:(i+1)*49,:] for i in range(24)])\n",
        "    with open(str(img)[:-4]+'.txt', 'r') as label_text:\n",
        "        train_labels.extend(label_text.read().splitlines())"
      ],
      "id": "6423bfbc"
    },
    {
      "cell_type": "code",
      "execution_count": 14,
      "metadata": {
        "colab": {
          "base_uri": "https://localhost:8080/"
        },
        "id": "nF2j3dt-3ECT",
        "outputId": "97f97ef3-1c95-4fe1-91e8-34f2f35b7164"
      },
      "outputs": [
        {
          "output_type": "execute_result",
          "data": {
            "text/plain": [
              "16704"
            ]
          },
          "metadata": {},
          "execution_count": 14
        }
      ],
      "source": [
        "len(train_labels)"
      ],
      "id": "nF2j3dt-3ECT"
    },
    {
      "cell_type": "code",
      "execution_count": 15,
      "metadata": {
        "colab": {
          "base_uri": "https://localhost:8080/",
          "height": 82
        },
        "id": "53853147",
        "outputId": "aed6a1f1-45fd-47b9-de8c-1d248b7e08ef"
      },
      "outputs": [
        {
          "output_type": "stream",
          "name": "stdout",
          "text": [
            "devonshire we of do discretion Enjoyment discourse ye \n"
          ]
        },
        {
          "output_type": "display_data",
          "data": {
            "text/plain": [
              "<Figure size 432x288 with 1 Axes>"
            ],
            "image/png": "[encoded data removed]"
          },
          "metadata": {
            "needs_background": "light"
          }
        }
      ],
      "source": [
        "val = np.random.randint(1,16704)\n",
        "plt.imshow(train_data[val])\n",
        "print(train_labels[val])"
      ],
      "id": "53853147"
    },
    {
      "cell_type": "code",
      "execution_count": 16,
      "metadata": {
        "id": "081e8993"
      },
      "outputs": [],
      "source": [
        "test_data = []"
      ],
      "id": "081e8993"
    },
    {
      "cell_type": "code",
      "execution_count": 17,
      "metadata": {
        "id": "d6f477f1"
      },
      "outputs": [],
      "source": [
        "for img in test_dir.rglob('*.png'):\n",
        "    image = cv2.imread(str(img))\n",
        "    test_data.extend([image[i*49:(i+1)*49,:] for i in range(24)])"
      ],
      "id": "d6f477f1"
    },
    {
      "cell_type": "code",
      "execution_count": 18,
      "metadata": {
        "colab": {
          "base_uri": "https://localhost:8080/",
          "height": 82
        },
        "id": "9c96eed8",
        "outputId": "51fb1a3a-23ad-4b3a-e870-d858d154e5f2"
      },
      "outputs": [
        {
          "output_type": "execute_result",
          "data": {
            "text/plain": [
              "<matplotlib.image.AxesImage at 0x7f2b2e3edfd0>"
            ]
          },
          "metadata": {},
          "execution_count": 18
        },
        {
          "output_type": "display_data",
          "data": {
            "text/plain": [
              "<Figure size 432x288 with 1 Axes>"
            ],
            "image/png": "[encoded data removed]"
          },
          "metadata": {
            "needs_background": "light"
          }
        }
      ],
      "source": [
        "plt.imshow(test_data[np.random.randint(1,2352)])"
      ],
      "id": "9c96eed8"
    },
    {
      "cell_type": "markdown",
      "metadata": {
        "id": "159e6359"
      },
      "source": [
        "# Разделим датасет на обучающую и валидационную выборки"
      ],
      "id": "159e6359"
    },
    {
      "cell_type": "code",
      "execution_count": 19,
      "metadata": {
        "id": "858b1eba"
      },
      "outputs": [],
      "source": [
        "train_data = np.array(train_data)\n",
        "train_labels = np.array(train_labels)"
      ],
      "id": "858b1eba"
    },
    {
      "cell_type": "code",
      "execution_count": 20,
      "metadata": {
        "id": "d72ca2d9"
      },
      "outputs": [],
      "source": [
        "from sklearn.model_selection import train_test_split\n",
        "train_files, val_files, train_labels, val_labels = train_test_split(train_data, train_labels, test_size=0.25)"
      ],
      "id": "d72ca2d9"
    },
    {
      "cell_type": "code",
      "execution_count": 21,
      "metadata": {
        "colab": {
          "base_uri": "https://localhost:8080/"
        },
        "id": "913e2eca",
        "outputId": "33e3bdca-f645-4c10-b330-135e16f5549d"
      },
      "outputs": [
        {
          "output_type": "execute_result",
          "data": {
            "text/plain": [
              "(12528, 49, 1200, 3)"
            ]
          },
          "metadata": {},
          "execution_count": 21
        }
      ],
      "source": [
        "train_files.shape"
      ],
      "id": "913e2eca"
    },
    {
      "cell_type": "code",
      "execution_count": 22,
      "metadata": {
        "colab": {
          "base_uri": "https://localhost:8080/",
          "height": 82
        },
        "id": "a8b01547",
        "outputId": "66930cd3-a9a4-4f29-cb27-357fab21aff5"
      },
      "outputs": [
        {
          "output_type": "execute_result",
          "data": {
            "text/plain": [
              "<matplotlib.image.AxesImage at 0x7f2b1fea9990>"
            ]
          },
          "metadata": {},
          "execution_count": 22
        },
        {
          "output_type": "display_data",
          "data": {
            "text/plain": [
              "<Figure size 432x288 with 1 Axes>"
            ],
            "image/png": "[encoded data removed]"
          },
          "metadata": {
            "needs_background": "light"
          }
        }
      ],
      "source": [
        "plt.imshow(train_files[7])"
      ],
      "id": "a8b01547"
    },
    {
      "cell_type": "markdown",
      "metadata": {
        "id": "b7e66501"
      },
      "source": [
        "# Configurations"
      ],
      "id": "b7e66501"
    },
    {
      "cell_type": "code",
      "execution_count": 23,
      "metadata": {
        "id": "ee354a10"
      },
      "outputs": [],
      "source": [
        "DEVICE = torch.device('cuda' if torch.cuda.is_available() else 'cpu')\n",
        "config_json = {\n",
        "    \"alphabet\": set(' '.join(train_labels)),\n",
        "    \"save_dir\": \"experiments/test\",\n",
        "    \"num_epochs\": 10,\n",
        "    \"image\": {\n",
        "        \"width\": 1152,\n",
        "        \"height\": 64\n",
        "    },\n",
        "    \"train\": {\n",
        "        \"batch_size\": 64\n",
        "    },\n",
        "    \"val\": {\n",
        "        \"batch_size\": 64\n",
        "    }\n",
        "}"
      ],
      "id": "ee354a10"
    },
    {
      "cell_type": "markdown",
      "metadata": {
        "id": "cc84a609"
      },
      "source": [
        "# Токенайзер для преобразования текста в массив чисел"
      ],
      "id": "cc84a609"
    },
    {
      "cell_type": "markdown",
      "metadata": {
        "id": "IjvrLj6r1SuQ"
      },
      "source": [
        "# CTC loss (The Connectionist Temporal Classification loss)"
      ],
      "id": "IjvrLj6r1SuQ"
    },
    {
      "cell_type": "markdown",
      "metadata": {
        "id": "H8wDOgR11j5a"
      },
      "source": [
        "#### Основная идея в том, что картинка разбивается на какое-то фиксированоое количество вертикальных областей (количество этих областей значительно болше количества символов). Для каждой области вычисляется вероятность нахождения в ней буквы, для каждой буквы из алфавита. В случае, если в слове идут две буквы подряд, то с помощью такой идеи их трудно было бы различить. Для этого между одинаковыми буквами вставляется символ CTC BLANK"
      ],
      "id": "H8wDOgR11j5a"
    },
    {
      "cell_type": "markdown",
      "metadata": {
        "id": "MM0CUNmQ1Jrs"
      },
      "source": [
        "![image.png](data:image/png;base64,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)"
      ],
      "id": "MM0CUNmQ1Jrs"
    },
    {
      "cell_type": "code",
      "execution_count": 24,
      "metadata": {
        "id": "0a13be10"
      },
      "outputs": [],
      "source": [
        "OOV = '<OOV>' # out of vocabulary symbol\n",
        "CTC_BLANK = '<BLANK>'\n",
        "def get_char_map(alphabet):\n",
        "    \"\"\"Make from string alphabet character2int dict.\n",
        "    Add BLANK char for CTC loss and OOV char for out of vocabulary symbols.\"\"\"\n",
        "    char_map = {value: idx + 2 for (idx, value) in enumerate(alphabet)}\n",
        "    # словарь символов из всех символов алфавита + первые два: OOV, CTC BLANK\n",
        "    char_map[CTC_BLANK] = 0\n",
        "    char_map[OOV] = 1\n",
        "    return char_map\n",
        "\n",
        "class Tokenizer:\n",
        "    def __init__(self, alphabet):\n",
        "        self.char_map = get_char_map(alphabet) # словарь символов алфавита для перевода строки в список чисел\n",
        "        self.rev_char_map = {val: key for key, val in self.char_map.items()} # словарь для обратного перевода чисел в символы\n",
        "\n",
        "    def encode(self, line_list):  \n",
        "        \"\"\"Returns a list of encoded lines (int).\"\"\"\n",
        "        enc_lines = []\n",
        "        for line in line_list: # представляем одну строку с транскрипцией для картинки в виде списка чисел\n",
        "            enc_lines.append(\n",
        "                [self.char_map[char] if char in self.char_map\n",
        "                 else self.char_map[OOV] # кодируем символы их значениями, а неизвестные - значением OOV\n",
        "                 for char in line]\n",
        "            )\n",
        "        return enc_lines\n",
        "\n",
        "    def get_num_chars(self):\n",
        "        return len(self.char_map)\n",
        "\n",
        "    def decode(self, enc_line_list): # на входе батч из списков кодирующих строки\n",
        "        \"\"\"Returns a list of lines (str) after removing blanks and collapsing\n",
        "        repeating characters. Also skip out of vocabulary token.\"\"\"\n",
        "        dec_lines = []\n",
        "        for line in enc_line_list: # декодируем каждую строку(список кодирующих чисел) из списка строк-транскрипций\n",
        "            line_chars = ''\n",
        "            for idx, char_enc in enumerate(line):\n",
        "                # skip if blank symbol, oov token or repeated characters\n",
        "                if (\n",
        "                    char_enc != self.char_map[OOV] # символ - не out of vocabulary\n",
        "                    and char_enc != self.char_map[CTC_BLANK] # символ - не CTC BLANK\n",
        "                    # idx > 0 to avoid selecting [-1] item\n",
        "                    and not (idx > 0 and char_enc == line[idx - 1]) # если одинаковые кодовые числа, то не выводим несколько раз одно и то же число\n",
        "                ): # если числа и правда повторяются, то между ними должен быть CTC BLANK\n",
        "                    line_chars += self.rev_char_map[char_enc]\n",
        "            dec_lines.append(line_chars)\n",
        "        return dec_lines"
      ],
      "id": "0a13be10"
    },
    {
      "cell_type": "markdown",
      "metadata": {
        "id": "b3762cd4"
      },
      "source": [
        "# DATASET CLASS"
      ],
      "id": "b3762cd4"
    },
    {
      "cell_type": "code",
      "execution_count": 25,
      "metadata": {
        "id": "a6ca2d93"
      },
      "outputs": [],
      "source": [
        "class OCRDataset(Dataset):\n",
        "    def __init__(self, images, labels, tokenizer, transform=None):\n",
        "        super().__init__()\n",
        "        self.transform = transform\n",
        "        self.data_len = len(images)\n",
        "\n",
        "        self.imgs = images\n",
        "        self.texts = labels # список строк транскипций к картинкам\n",
        "        self.enc_texts = tokenizer.encode(labels) # получим списков закодированных строк\n",
        "        #используем метод из класса токенизатора\n",
        "\n",
        "    def __len__(self):\n",
        "        return self.data_len\n",
        "\n",
        "    def __getitem__(self, idx):\n",
        "        text = self.texts[idx]\n",
        "        enc_text = torch.LongTensor(self.enc_texts[idx]) # вернет одномерный список, закодированной строки\n",
        "        image = self.imgs[idx]\n",
        "        if self.transform is not None: #делаем трансформации\n",
        "            image = self.transform(self.imgs[idx])\n",
        "        return image, text, enc_text\n",
        "        #возвращает изображение, строку с транскрипцией и закодированную строку с транскипцией(список чисел)\n",
        "\n",
        "\n",
        "# функция которая помогает объединять картинки и таргет-текст в батч\n",
        "def collate_fn(batch): # принимает кортеж, и использует __getitem__ of Dataset class\n",
        "    images, texts, enc_texts = zip(*batch)\n",
        "    images = torch.stack(images, 0) # по оси 0 объединяем два тензора в один\n",
        "    text_lens = torch.LongTensor([len(text) for text in texts])\n",
        "    #!!!!# pad_sequence - стекует список тензоров и дополняет, если надо, их до нужной длины\n",
        "    enc_pad_texts = pad_sequence(enc_texts, batch_first=True, padding_value=0)\n",
        "    return images, texts, enc_pad_texts, text_lens\n",
        "    # возвращает батч-кортеж\n",
        "\n",
        "def get_data_loader(\n",
        "    transforms, images, labels, tokenizer, batch_size, drop_last\n",
        "):\n",
        "    dataset = OCRDataset(images, labels, tokenizer, transforms)\n",
        "    data_loader = torch.utils.data.DataLoader( \n",
        "        dataset=dataset,\n",
        "        collate_fn=collate_fn,\n",
        "        batch_size=batch_size,\n",
        "        num_workers=8,\n",
        "    ) # DataLoader использующий прописанный нами класс Dataset с magic методами\n",
        "    # __getitem__, __len__, __init__\n",
        "    return data_loader"
      ],
      "id": "a6ca2d93"
    },
    {
      "cell_type": "markdown",
      "metadata": {
        "id": "5070715a"
      },
      "source": [
        "# Расстояние Левенштйна"
      ],
      "id": "5070715a"
    },
    {
      "cell_type": "code",
      "execution_count": 26,
      "metadata": {
        "colab": {
          "base_uri": "https://localhost:8080/"
        },
        "id": "8dd1fd44",
        "outputId": "91ff637f-1c44-4b19-f08d-02984328925c"
      },
      "outputs": [
        {
          "output_type": "stream",
          "name": "stdout",
          "text": [
            "Requirement already satisfied: python-Levenshtein in /usr/local/lib/python3.7/dist-packages (0.12.2)\n",
            "Requirement already satisfied: setuptools in /usr/local/lib/python3.7/dist-packages (from python-Levenshtein) (57.4.0)\n"
          ]
        }
      ],
      "source": [
        "%pip install python-Levenshtein"
      ],
      "id": "8dd1fd44"
    },
    {
      "cell_type": "code",
      "execution_count": 27,
      "metadata": {
        "id": "ab625b0b"
      },
      "outputs": [],
      "source": [
        "import Levenshtein"
      ],
      "id": "ab625b0b"
    },
    {
      "cell_type": "markdown",
      "metadata": {
        "id": "6c4422f6"
      },
      "source": [
        "# Аугментация"
      ],
      "id": "6c4422f6"
    },
    {
      "cell_type": "code",
      "execution_count": 28,
      "metadata": {
        "id": "67MOCTYU6jJV"
      },
      "outputs": [],
      "source": [
        "from torchvision.transforms import Compose, Resize, Normalize, ToTensor"
      ],
      "id": "67MOCTYU6jJV"
    },
    {
      "cell_type": "code",
      "execution_count": 62,
      "metadata": {
        "id": "3b88053d"
      },
      "outputs": [],
      "source": [
        "class ToTensor:\n",
        "    def __call__(self, arr):\n",
        "        arr = torch.from_numpy(arr).permute(2,0,1)\n",
        "        return arr\n",
        "\n",
        "class ImageResize:\n",
        "    def __init__(self, height, width):\n",
        "        self.height = height\n",
        "        self.width = width\n",
        "\n",
        "    def __call__(self, image):\n",
        "        image = cv2.resize(image, (self.width, self.height),\n",
        "                           interpolation=cv2.INTER_LINEAR)\n",
        "        return image\n",
        "\n",
        "class Normalize:\n",
        "    def __call__(self, img):\n",
        "        img = img.astype(np.float32) / 255\n",
        "        return img\n",
        "\n",
        "def get_train_transforms(height, width):\n",
        "    transforms = Compose([\n",
        "        ImageResize(height, width),\n",
        "        Normalize(),\n",
        "        ToTensor()\n",
        "    ])\n",
        "    return transforms\n",
        "\n",
        "\n",
        "def get_val_transforms(height, width):\n",
        "    transforms = Compose([\n",
        "        ImageResize(height, width),\n",
        "        Normalize(),\n",
        "        ToTensor()\n",
        "    ])\n",
        "    return transforms"
      ],
      "id": "3b88053d"
    },
    {
      "cell_type": "markdown",
      "metadata": {
        "id": "04d9a632"
      },
      "source": [
        "# Model"
      ],
      "id": "04d9a632"
    },
    {
      "cell_type": "code",
      "execution_count": 47,
      "metadata": {
        "id": "5d7a44b6"
      },
      "outputs": [],
      "source": [
        "class BiLSTM(nn.Module):\n",
        "    def __init__(self, input_size, hidden_size, num_layers, dropout=0.1):\n",
        "        super().__init__()\n",
        "        self.lstm = nn.LSTM(\n",
        "            input_size, hidden_size, num_layers,\n",
        "            dropout=dropout, batch_first=True, bidirectional=True)\n",
        "\n",
        "    def forward(self, x):\n",
        "        out, _ = self.lstm(x)\n",
        "        return out\n",
        "\n",
        "\n",
        "class CRNN(nn.Module):\n",
        "    # number_class_symbols - количество различных символов в транскрипциях\n",
        "    # time_feature_count - количество признаков на входе LSTM\n",
        "    def __init__(\n",
        "        self, number_class_symbols, time_feature_count=640, lstm_hidden=640,\n",
        "        lstm_len=2,\n",
        "    ):\n",
        "        super().__init__()\n",
        "        #pretrained_feature_extractor = torchvision.models.efficientnet_b5(pretrained=True)\n",
        "        model = torchvision.models.resnet34(pretrained=True) # берем Conv2D слои предобученного резнета в качестве feature_extractor\n",
        "        \n",
        "        blocks = [model.conv1, model.bn1, model.relu,\n",
        "              model.maxpool, model.layer1, model.layer2, model.layer3]\n",
        "        self.feature_extractor = nn.Sequential(*blocks) \n",
        "        self.avg_pool = nn.AdaptiveAvgPool2d(\n",
        "            (time_feature_count, time_feature_count)) # в скобках указывается output size для каждой карты\n",
        "        self.bilstm = BiLSTM(time_feature_count, lstm_hidden, lstm_len, dropout=0.1)\n",
        "        self.classifier = nn.Sequential(\n",
        "            nn.Linear(lstm_hidden * 2, time_feature_count),\n",
        "            nn.GELU(),\n",
        "            nn.Dropout(0.1),\n",
        "            nn.Linear(time_feature_count, number_class_symbols)\n",
        "        )\n",
        "    def forward(self, x):\n",
        "        # shape [64, 3, 64, 1152] : 64 - batch size, 3 - channels, 64 - heigth, 1152 - width\n",
        "        # 3 cards 2 x 40\n",
        "        x = self.feature_extractor(x)\n",
        "        # shape [64, 256, 4, 72] : got 256 cards  4 x 72\n",
        "        b, c, h, w = x.size()\n",
        "        x = x.view(b, c * h, w) # stack cards by heigth\n",
        "        # shape [64, 1024, 72] : got 1 card 1024 x 32\n",
        "        x = self.avg_pool(x)\n",
        "        # shape [64, 640, 640] : got card 256 x 256\n",
        "        x = x.transpose(1, 2)\n",
        "        x = self.bilstm(x)\n",
        "        # shape [64, 640, 1280]\n",
        "        x = self.classifier(x)\n",
        "        # shape [64, 640, 65] # shape[2] - количество классов(количество различных символов в словаре)\n",
        "        #shape[0] - размер батча, shape[1] - длина последовательности\n",
        "        # т е имеем shape[1] вертикальных областей на которых разбивается каждая картинка и shape[2] - вероятностей принадлежности области к определенному символу\n",
        "        x = nn.functional.log_softmax(x, dim=2).permute(1, 0, 2)\n",
        "        # permute - переставляет измерения местами (5,4,3) -> (4,5,3)\n",
        "        # ПОДГОНЯЕМ ПОД ФОРМУ ДЛЯ ПОДСЧЕТА LOSS: (T, N, C), где \n",
        "        #T - Input sequence length, C - Number of classes (including blank), N - Batch size\n",
        "        return x"
      ],
      "id": "5d7a44b6"
    },
    {
      "cell_type": "markdown",
      "metadata": {
        "id": "KR-5NSR1VdQ0"
      },
      "source": [
        "# Цикл обучения"
      ],
      "id": "KR-5NSR1VdQ0"
    },
    {
      "cell_type": "code",
      "execution_count": 48,
      "metadata": {
        "id": "15qpunTghk9a"
      },
      "outputs": [],
      "source": [
        "def fit_epoch(train_loader, model, criterion, optimizer, scheduler, tokenizer):\n",
        "    total_loss=0\n",
        "    num_batches=0\n",
        "    # переключаем модель в режим обучения, теперь она может обновлять веса\n",
        "    model.train()\n",
        "    #scheduler.step()\n",
        "    for images, texts, enc_pad_texts, text_lens in train_loader:\n",
        "        optimizer.zero_grad()\n",
        "        images = images.to(DEVICE)\n",
        "        batch_size = len(texts)\n",
        "        predictions = model(images)\n",
        "        \n",
        "        output_lenghts = torch.full(\n",
        "            size=(predictions.size(1),),\n",
        "            fill_value=predictions.size(0),\n",
        "            dtype=torch.long\n",
        "        )\n",
        "        loss = criterion(predictions, enc_pad_texts, output_lenghts, text_lens)\n",
        "        # (input, target, input_lengths, target_lengths)\n",
        "        loss.backward()\n",
        "        torch.nn.utils.clip_grad_norm_(model.parameters(), 2)\n",
        "        optimizer.step()\n",
        "        # predictions имеют вид: (T, N, C), где \n",
        "        #T - Input sequence length, C - Number of classes (including blank), N - Batch size\n",
        "        # получаем предсказания символа в каждой вертикальной области, а затем декодируем это в строку \n",
        "        pred = torch.argmax(predictions.detach().cpu(), -1).permute(1, 0).numpy()\n",
        "        text_preds = tokenizer.decode(pred)\n",
        "        # count total loss per batch\n",
        "        loss_item = sum([Levenshtein.distance(text1, text2) \n",
        "        for text1, text2 in zip(text_preds, texts)])\n",
        "        total_loss += loss_item\n",
        "        run[\"train/loss\"].log(loss_item)\n",
        "        num_batches +=1\n",
        "    return total_loss/num_batches\n",
        "\n",
        "def eval_epoch(model, val_loader, criterion, tokenizer):\n",
        "  total_loss=0\n",
        "  num_batches=0\n",
        "  for images, texts, _, _ in val_loader:\n",
        "        batch_size = len(texts)\n",
        "        text_preds = predict(images, model, tokenizer, DEVICE)\n",
        "        loss_item = sum([Levenshtein.distance(text1, text2) \n",
        "                    for text1, text2 in zip(text_preds, texts)])\n",
        "        total_loss += loss_item\n",
        "        run[\"eval/loss\"].log(loss_item)\n",
        "        num_batches +=1\n",
        "  return total_loss/num_batches\n",
        "   \n",
        "def predict(images, model, tokenizer, device):\n",
        "    model.eval()\n",
        "    images = images.to(device)\n",
        "    with torch.no_grad():\n",
        "        output = model(images)\n",
        "    pred = torch.argmax(output.detach().cpu(), -1).permute(1, 0).numpy()\n",
        "    text_preds = tokenizer.decode(pred)\n",
        "    return text_preds"
      ],
      "id": "15qpunTghk9a"
    },
    {
      "cell_type": "code",
      "execution_count": 49,
      "metadata": {
        "id": "QOcsynONUv4A"
      },
      "outputs": [],
      "source": [
        "def train(config, train_files, val_files, train_labels, val_labels):\n",
        "    tokenizer = Tokenizer(config['alphabet'])\n",
        "    # transforms\n",
        "    train_transforms = get_train_transforms(\n",
        "        height=config['image']['height'],\n",
        "        width=config['image']['width']\n",
        "    )\n",
        "    val_transforms = get_val_transforms(\n",
        "        height=config['image']['height'],\n",
        "        width=config['image']['width']\n",
        "    )\n",
        "    # data loaders\n",
        "    train_loader = get_data_loader(\n",
        "        train_transforms,\n",
        "        train_files,\n",
        "        train_labels,\n",
        "        tokenizer,\n",
        "        batch_size=config['train']['batch_size'],\n",
        "        drop_last=True)\n",
        "    val_loader = get_data_loader(\n",
        "        val_transforms,\n",
        "        val_files,\n",
        "        val_labels,\n",
        "        tokenizer,\n",
        "        batch_size=config['val']['batch_size'],\n",
        "        drop_last=True)\n",
        "    os.makedirs(config['save_dir'], exist_ok=True)\n",
        "    # объявляем модель\n",
        "    model = CRNN(number_class_symbols=tokenizer.get_num_chars())\n",
        "    model.to(DEVICE)\n",
        "    # устанавливаем оценщик для loss function(ctc_loss)\n",
        "    criterion = torch.nn.CTCLoss(blank=0, reduction='mean', zero_infinity=True)\n",
        "    #blank - номер символа blank ctc, \n",
        "    #reduction='mean' - output losses will be divided by the target lengths \n",
        "    #and then the mean over the batch is taken\n",
        "    \n",
        "    #объявляем оптимизатор\n",
        "    optimizer = torch.optim.AdamW(model.parameters(), lr=0.001,\n",
        "                                  weight_decay=0.01)\n",
        "    #scheduler\n",
        "    scheduler = torch.optim.lr_scheduler.ReduceLROnPlateau(\n",
        "        optimizer=optimizer, mode='max', factor=0.5, patience=15)\n",
        "\n",
        "    run['model/parameters/n_epochs'] = config['num_epochs']\n",
        "\n",
        "    for epoch in trange(config['num_epochs'], desc=\"Epoch:\"):\n",
        "        train_loss = fit_epoch(train_loader, model, criterion, optimizer, scheduler, tokenizer)\n",
        "        val_loss = eval_epoch(model, val_loader, criterion, tokenizer)\n",
        "        run['train/epoch/loss'].log(train_loss)\n",
        "        run[\"evaluation/loss\"] = val_loss\n",
        "        model_save_path = os.path.join(\n",
        "             config['save_dir'], f'model-{epoch}.ckpt')\n",
        "        torch.save(model.state_dict(), model_save_path)\n",
        "        print('Model weights saved')"
      ],
      "id": "QOcsynONUv4A"
    },
    {
      "cell_type": "code",
      "execution_count": 33,
      "metadata": {
        "colab": {
          "base_uri": "https://localhost:8080/"
        },
        "id": "xOOJL9rayftc",
        "outputId": "e491304e-e401-44a7-9a4c-d41edc7a654e"
      },
      "outputs": [
        {
          "metadata": {
            "tags": null
          },
          "name": "stderr",
          "output_type": "stream",
          "text": [
            "/usr/local/lib/python3.7/dist-packages/torch/utils/data/dataloader.py:481: UserWarning: This DataLoader will create 8 worker processes in total. Our suggested max number of worker in current system is 2, which is smaller than what this DataLoader is going to create. Please be aware that excessive worker creation might get DataLoader running slow or even freeze, lower the worker number to avoid potential slowness/freeze if necessary.\n",
            "  cpuset_checked))\n",
            "Epoch::  10%|█         | 1/10 [07:08<1:04:16, 428.50s/it]"
          ]
        },
        {
          "metadata": {
            "tags": null
          },
          "name": "stdout",
          "output_type": "stream",
          "text": [
            "Model weights saved\n"
          ]
        },
        {
          "metadata": {
            "tags": null
          },
          "name": "stderr",
          "output_type": "stream",
          "text": [
            "\rEpoch::  20%|██        | 2/10 [14:29<58:05, 435.66s/it]  "
          ]
        },
        {
          "metadata": {
            "tags": null
          },
          "name": "stdout",
          "output_type": "stream",
          "text": [
            "Model weights saved\n"
          ]
        },
        {
          "metadata": {
            "tags": null
          },
          "name": "stderr",
          "output_type": "stream",
          "text": [
            "\rEpoch::  30%|███       | 3/10 [21:50<51:09, 438.44s/it]"
          ]
        },
        {
          "metadata": {
            "tags": null
          },
          "name": "stdout",
          "output_type": "stream",
          "text": [
            "Model weights saved\n"
          ]
        },
        {
          "metadata": {
            "tags": null
          },
          "name": "stderr",
          "output_type": "stream",
          "text": [
            "\rEpoch::  40%|████      | 4/10 [29:13<43:59, 439.97s/it]"
          ]
        },
        {
          "metadata": {
            "tags": null
          },
          "name": "stdout",
          "output_type": "stream",
          "text": [
            "Model weights saved\n"
          ]
        },
        {
          "metadata": {
            "tags": null
          },
          "name": "stderr",
          "output_type": "stream",
          "text": [
            "\rEpoch::  50%|█████     | 5/10 [36:34<36:41, 440.28s/it]"
          ]
        },
        {
          "metadata": {
            "tags": null
          },
          "name": "stdout",
          "output_type": "stream",
          "text": [
            "Model weights saved\n"
          ]
        },
        {
          "metadata": {
            "tags": null
          },
          "name": "stderr",
          "output_type": "stream",
          "text": [
            "\rEpoch::  60%|██████    | 6/10 [43:53<29:20, 440.04s/it]"
          ]
        },
        {
          "metadata": {
            "tags": null
          },
          "name": "stdout",
          "output_type": "stream",
          "text": [
            "Model weights saved\n"
          ]
        },
        {
          "metadata": {
            "tags": null
          },
          "name": "stderr",
          "output_type": "stream",
          "text": [
            "\rEpoch::  70%|███████   | 7/10 [51:13<21:59, 439.96s/it]"
          ]
        },
        {
          "metadata": {
            "tags": null
          },
          "name": "stdout",
          "output_type": "stream",
          "text": [
            "Model weights saved\n"
          ]
        },
        {
          "metadata": {
            "tags": null
          },
          "name": "stderr",
          "output_type": "stream",
          "text": [
            "\rEpoch::  80%|████████  | 8/10 [58:33<14:40, 440.12s/it]"
          ]
        },
        {
          "metadata": {
            "tags": null
          },
          "name": "stdout",
          "output_type": "stream",
          "text": [
            "Model weights saved\n"
          ]
        },
        {
          "metadata": {
            "tags": null
          },
          "name": "stderr",
          "output_type": "stream",
          "text": [
            "\rEpoch::  90%|█████████ | 9/10 [1:05:55<07:20, 440.60s/it]"
          ]
        },
        {
          "metadata": {
            "tags": null
          },
          "name": "stdout",
          "output_type": "stream",
          "text": [
            "Model weights saved\n"
          ]
        },
        {
          "output_type": "stream",
          "name": "stderr",
          "text": [
            "Epoch:: 100%|██████████| 10/10 [1:13:16<00:00, 439.66s/it]"
          ]
        },
        {
          "output_type": "stream",
          "name": "stdout",
          "text": [
            "Model weights saved\n"
          ]
        },
        {
          "output_type": "stream",
          "name": "stderr",
          "text": [
            "\n"
          ]
        }
      ],
      "source": [
        "train(config_json, train_files, val_files, train_labels, val_labels)"
      ],
      "id": "xOOJL9rayftc"
    },
    {
      "cell_type": "markdown",
      "source": [
        "# Predictions"
      ],
      "metadata": {
        "id": "M8-tRn9WdZjT"
      },
      "id": "M8-tRn9WdZjT"
    },
    {
      "cell_type": "code",
      "execution_count": null,
      "metadata": {
        "id": "R5XvxJMz_yPt"
      },
      "outputs": [],
      "source": [
        "model_crnn = CRNN(number_class_symbols=Tokenizer(config_json['alphabet']).get_num_chars())\n",
        "model_crnn.load_state_dict(torch.load('/content/experiments/test/model-9.ckpt'))\n",
        "model_crnn.to(DEVICE)"
      ],
      "id": "R5XvxJMz_yPt"
    },
    {
      "cell_type": "code",
      "source": [
        "class InferenceTransform:\n",
        "    def __init__(self, height, width):\n",
        "        self.transforms = get_val_transforms(height, width)\n",
        "\n",
        "    def __call__(self, images):\n",
        "        transformed_images = []\n",
        "        for image in images:\n",
        "            image = self.transforms(image)\n",
        "            transformed_images.append(image)\n",
        "        transformed_tensor = torch.stack(transformed_images, 0)\n",
        "        return transformed_tensor\n",
        "\n",
        "\n",
        "class OcrPredictor:\n",
        "    def __init__(self, model_path, config, device='cuda'):\n",
        "        self.tokenizer = Tokenizer(config['alphabet'])\n",
        "        self.device = torch.device(device)\n",
        "        # load model\n",
        "        self.model = CRNN(number_class_symbols=self.tokenizer.get_num_chars())\n",
        "        self.model.load_state_dict(torch.load(model_path))\n",
        "        self.model.to(self.device)\n",
        "\n",
        "        self.transforms = InferenceTransform(\n",
        "            height=config['image']['height'],\n",
        "            width=config['image']['width'],\n",
        "        )\n",
        "\n",
        "    def __call__(self, images):\n",
        "        if isinstance(images, (list, tuple)):\n",
        "            one_image = False\n",
        "        elif isinstance(images, np.ndarray):\n",
        "            images = [images]\n",
        "            one_image = True\n",
        "        else:\n",
        "            raise Exception(f\"Input must contain np.ndarray, \"\n",
        "                            f\"tuple or list, found {type(images)}.\")\n",
        "\n",
        "        images = self.transforms(images)\n",
        "        pred = predict(images, self.model, self.tokenizer, self.device)\n",
        "\n",
        "        if one_image:\n",
        "            return pred[0]\n",
        "        else:\n",
        "            return pred"
      ],
      "metadata": {
        "id": "jG_KaqZNeG5V"
      },
      "id": "jG_KaqZNeG5V",
      "execution_count": 53,
      "outputs": []
    },
    {
      "cell_type": "code",
      "source": [
        "predictor = OcrPredictor(\n",
        "    model_path='/content/experiments/test/model-9.ckpt',\n",
        "    config=config_json\n",
        ")"
      ],
      "metadata": {
        "id": "UphXXj2Pe7Ko"
      },
      "id": "UphXXj2Pe7Ko",
      "execution_count": 54,
      "outputs": []
    },
    {
      "cell_type": "code",
      "source": [
        "pred_json = {}\n",
        "count = 0\n",
        "\n",
        "for idx in np.random.randint(0, len(test_data), 10):\n",
        "    img = test_data[idx]\n",
        "    pred = predictor(img)\n",
        "    #pred_json[img_name] = pred\n",
        "\n",
        "    img = cv2.cvtColor(img, cv2.COLOR_BGR2RGB)\n",
        "    plt.imshow(img)\n",
        "    plt.show()\n",
        "    print('Prediction: ', predictor(img))\n",
        "    count += 1"
      ],
      "metadata": {
        "colab": {
          "base_uri": "https://localhost:8080/",
          "height": 1000
        },
        "id": "yUap1OgXdY_R",
        "outputId": "6b52cd24-6ef6-40d4-c95c-55805ffea94e"
      },
      "id": "yUap1OgXdY_R",
      "execution_count": 64,
      "outputs": [
        {
          "output_type": "stream",
          "name": "stdout",
          "text": [
            "(64, 1152, 3)\n"
          ]
        },
        {
          "output_type": "display_data",
          "data": {
            "text/plain": [
              "<Figure size 432x288 with 1 Axes>"
            ],
            "image/png": "[encoded data removed]"
          },
          "metadata": {
            "needs_background": "light"
          }
        },
        {
          "output_type": "stream",
          "name": "stdout",
          "text": [
            "(64, 1152, 3)\n",
            "Prediction:   JT 83 DH5L VF Ow LO GNkq 7R9BT xl o L oz\n",
            "(64, 1152, 3)\n"
          ]
        },
        {
          "output_type": "display_data",
          "data": {
            "text/plain": [
              "<Figure size 432x288 with 1 Axes>"
            ],
            "image/png": "[encoded data removed]"
          },
          "metadata": {
            "needs_background": "light"
          }
        },
        {
          "output_type": "stream",
          "name": "stdout",
          "text": [
            "(64, 1152, 3)\n",
            "Prediction:  estimatiing Own hence wiews two ask right whole ten \n",
            "(64, 1152, 3)\n"
          ]
        },
        {
          "output_type": "display_data",
          "data": {
            "text/plain": [
              "<Figure size 432x288 with 1 Axes>"
            ],
            "image/png": "[encoded data removed]"
          },
          "metadata": {
            "needs_background": "light"
          }
        },
        {
          "output_type": "stream",
          "name": "stdout",
          "text": [
            "(64, 1152, 3)\n",
            "Prediction:  Had admitting concluded too behaviour him she Of death \n",
            "(64, 1152, 3)\n"
          ]
        },
        {
          "output_type": "display_data",
          "data": {
            "text/plain": [
              "<Figure size 432x288 with 1 Axes>"
            ],
            "image/png": "[encoded data removed]"
          },
          "metadata": {
            "needs_background": "light"
          }
        },
        {
          "output_type": "stream",
          "name": "stdout",
          "text": [
            "(64, 1152, 3)\n",
            "Prediction:  am But shy tedious pressed studied ophion entered \n",
            "(64, 1152, 3)\n"
          ]
        },
        {
          "output_type": "display_data",
          "data": {
            "text/plain": [
              "<Figure size 432x288 with 1 Axes>"
            ],
            "image/png": "[encoded data removed]"
          },
          "metadata": {
            "needs_background": "light"
          }
        },
        {
          "output_type": "stream",
          "name": "stdout",
          "text": [
            "(64, 1152, 3)\n",
            "Prediction:  alll\n",
            "(64, 1152, 3)\n"
          ]
        },
        {
          "output_type": "display_data",
          "data": {
            "text/plain": [
              "<Figure size 432x288 with 1 Axes>"
            ],
            "image/png": "[encoded data removed]"
          },
          "metadata": {
            "needs_background": "light"
          }
        },
        {
          "output_type": "stream",
          "name": "stdout",
          "text": [
            "(64, 1152, 3)\n",
            "Prediction:  V 1E ZD ha8P s Ev Lrejn DZ S HE JxG  J3 UQA\n",
            "(64, 1152, 3)\n"
          ]
        },
        {
          "output_type": "display_data",
          "data": {
            "text/plain": [
              "<Figure size 432x288 with 1 Axes>"
            ],
            "image/png": "[encoded data removed]"
          },
          "metadata": {
            "needs_background": "light"
          }
        },
        {
          "output_type": "stream",
          "name": "stdout",
          "text": [
            "(64, 1152, 3)\n",
            "Prediction:  ham any his departure fon contained curiosity \n",
            "(64, 1152, 3)\n"
          ]
        },
        {
          "output_type": "display_data",
          "data": {
            "text/plain": [
              "<Figure size 432x288 with 1 Axes>"
            ],
            "image/png": "[encoded data removed]"
          },
          "metadata": {
            "needs_background": "light"
          }
        },
        {
          "output_type": "stream",
          "name": "stdout",
          "text": [
            "(64, 1152, 3)\n",
            "Prediction:  procured Interest in yourself an do of numerous \n",
            "(64, 1152, 3)\n"
          ]
        },
        {
          "output_type": "display_data",
          "data": {
            "text/plain": [
              "<Figure size 432x288 with 1 Axes>"
            ],
            "image/png": "[encoded data removed]"
          },
          "metadata": {
            "needs_background": "light"
          }
        },
        {
          "output_type": "stream",
          "name": "stdout",
          "text": [
            "(64, 1152, 3)\n",
            "Prediction:  And Gorlim answered that he should find Eilinel again \n",
            "(64, 1152, 3)\n"
          ]
        },
        {
          "output_type": "display_data",
          "data": {
            "text/plain": [
              "<Figure size 432x288 with 1 Axes>"
            ],
            "image/png": "[encoded data removed]"
          },
          "metadata": {
            "needs_background": "light"
          }
        },
        {
          "output_type": "stream",
          "name": "stdout",
          "text": [
            "(64, 1152, 3)\n",
            "Prediction:   4 Xcl3 SUJn6twCQFYg7Ewk4 yO uck pE5hEir\n"
          ]
        }
      ]
    },
    {
      "cell_type": "code",
      "source": [
        ""
      ],
      "metadata": {
        "id": "IYcPlJL9g3MV"
      },
      "id": "IYcPlJL9g3MV",
      "execution_count": null,
      "outputs": []
    }
  ],
  "metadata": {
    "accelerator": "GPU",
    "colab": {
      "collapsed_sections": [],
      "name": "text_recognition_based_CRNN.ipynb",
      "provenance": []
    },
    "kernelspec": {
      "display_name": "Yandex DataSphere Kernel",
      "language": "python",
      "name": "python3"
    },
    "language_info": {
      "codemirror_mode": {
        "name": "ipython",
        "version": 3
      },
      "file_extension": ".py",
      "mimetype": "text/x-python",
      "name": "python",
      "nbconvert_exporter": "python",
      "pygments_lexer": "ipython3",
      "version": "3.7.7"
    },
    "notebookId": "9dad05de-11cf-4ef9-837e-521b17023165",
    "notebookPath": "Untitled.ipynb"
  },
  "nbformat": 4,
  "nbformat_minor": 5
}