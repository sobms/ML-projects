{
 "cells": [
  {
   "cell_type": "code",
   "execution_count": 2,
   "metadata": {
    "cellId": "l1jnfcs5qz0ruqv6fww07n",
    "id": "l6QyPMXNAppy"
   },
   "outputs": [],
   "source": [
    "import pandas as pd\n",
    "import numpy as np\n",
    "import re"
   ]
  },
  {
   "cell_type": "code",
   "execution_count": 6,
   "metadata": {
    "cellId": "jb2pfikinimkaizhoiojo",
    "id": "XFZid-2RSwit"
   },
   "outputs": [],
   "source": [
    "train_df = pd.read_csv('train.csv')"
   ]
  },
  {
   "cell_type": "code",
   "execution_count": 8,
   "metadata": {
    "cellId": "jokq2lrutno7eg4aqz2okg",
    "id": "_0-OkuCMTNlA"
   },
   "outputs": [],
   "source": [
    "test_df = pd.read_csv('test.csv')\n",
    "eval_df = pd.read_csv('eval.csv')"
   ]
  },
  {
   "cell_type": "code",
   "execution_count": 9,
   "metadata": {
    "cellId": "jx4027r46hgki432yp0lm",
    "id": "dcWFo2BCTVSR"
   },
   "outputs": [],
   "source": [
    "goods_df = pd.read_csv('goods.csv')"
   ]
  },
  {
   "cell_type": "code",
   "execution_count": 10,
   "metadata": {
    "cellId": "2qejmg5jhqqbk2cey73apl",
    "colab": {
     "base_uri": "https://localhost:8080/",
     "height": 487
    },
    "id": "6051ydddqLHV",
    "outputId": "ebdb4438-1b81-4547-8dd3-8e2ec703d8e1"
   },
   "outputs": [
    {
     "data": {
      "text/html": [
       "<div>\n",
       "<style scoped>\n",
       "    .dataframe tbody tr th:only-of-type {\n",
       "        vertical-align: middle;\n",
       "    }\n",
       "\n",
       "    .dataframe tbody tr th {\n",
       "        vertical-align: top;\n",
       "    }\n",
       "\n",
       "    .dataframe thead th {\n",
       "        text-align: right;\n",
       "    }\n",
       "</style>\n",
       "<table border=\"1\" class=\"dataframe\">\n",
       "  <thead>\n",
       "    <tr style=\"text-align: right;\">\n",
       "      <th></th>\n",
       "      <th>target</th>\n",
       "      <th>good_0</th>\n",
       "      <th>good_1</th>\n",
       "      <th>good_2</th>\n",
       "      <th>good_3</th>\n",
       "      <th>good_4</th>\n",
       "      <th>good_5</th>\n",
       "      <th>good_6</th>\n",
       "      <th>good_7</th>\n",
       "      <th>good_8</th>\n",
       "      <th>...</th>\n",
       "      <th>good_564</th>\n",
       "      <th>good_565</th>\n",
       "      <th>good_566</th>\n",
       "      <th>good_567</th>\n",
       "      <th>good_568</th>\n",
       "      <th>good_569</th>\n",
       "      <th>good_570</th>\n",
       "      <th>good_571</th>\n",
       "      <th>good_572</th>\n",
       "      <th>good_573</th>\n",
       "    </tr>\n",
       "  </thead>\n",
       "  <tbody>\n",
       "    <tr>\n",
       "      <th>0</th>\n",
       "      <td>person_0</td>\n",
       "      <td>0</td>\n",
       "      <td>0</td>\n",
       "      <td>0</td>\n",
       "      <td>0</td>\n",
       "      <td>0</td>\n",
       "      <td>0</td>\n",
       "      <td>0</td>\n",
       "      <td>0</td>\n",
       "      <td>0</td>\n",
       "      <td>...</td>\n",
       "      <td>1</td>\n",
       "      <td>0</td>\n",
       "      <td>0</td>\n",
       "      <td>0</td>\n",
       "      <td>0</td>\n",
       "      <td>0</td>\n",
       "      <td>0</td>\n",
       "      <td>0</td>\n",
       "      <td>0</td>\n",
       "      <td>0</td>\n",
       "    </tr>\n",
       "    <tr>\n",
       "      <th>1</th>\n",
       "      <td>person_1</td>\n",
       "      <td>0</td>\n",
       "      <td>0</td>\n",
       "      <td>0</td>\n",
       "      <td>0</td>\n",
       "      <td>0</td>\n",
       "      <td>0</td>\n",
       "      <td>0</td>\n",
       "      <td>0</td>\n",
       "      <td>0</td>\n",
       "      <td>...</td>\n",
       "      <td>1</td>\n",
       "      <td>1</td>\n",
       "      <td>0</td>\n",
       "      <td>0</td>\n",
       "      <td>0</td>\n",
       "      <td>0</td>\n",
       "      <td>0</td>\n",
       "      <td>0</td>\n",
       "      <td>0</td>\n",
       "      <td>0</td>\n",
       "    </tr>\n",
       "    <tr>\n",
       "      <th>2</th>\n",
       "      <td>person_2</td>\n",
       "      <td>0</td>\n",
       "      <td>0</td>\n",
       "      <td>0</td>\n",
       "      <td>1</td>\n",
       "      <td>0</td>\n",
       "      <td>0</td>\n",
       "      <td>0</td>\n",
       "      <td>0</td>\n",
       "      <td>0</td>\n",
       "      <td>...</td>\n",
       "      <td>0</td>\n",
       "      <td>0</td>\n",
       "      <td>0</td>\n",
       "      <td>0</td>\n",
       "      <td>0</td>\n",
       "      <td>0</td>\n",
       "      <td>0</td>\n",
       "      <td>0</td>\n",
       "      <td>0</td>\n",
       "      <td>0</td>\n",
       "    </tr>\n",
       "    <tr>\n",
       "      <th>3</th>\n",
       "      <td>person_3</td>\n",
       "      <td>0</td>\n",
       "      <td>0</td>\n",
       "      <td>0</td>\n",
       "      <td>0</td>\n",
       "      <td>0</td>\n",
       "      <td>0</td>\n",
       "      <td>0</td>\n",
       "      <td>0</td>\n",
       "      <td>0</td>\n",
       "      <td>...</td>\n",
       "      <td>0</td>\n",
       "      <td>0</td>\n",
       "      <td>0</td>\n",
       "      <td>1</td>\n",
       "      <td>0</td>\n",
       "      <td>0</td>\n",
       "      <td>0</td>\n",
       "      <td>0</td>\n",
       "      <td>0</td>\n",
       "      <td>0</td>\n",
       "    </tr>\n",
       "    <tr>\n",
       "      <th>4</th>\n",
       "      <td>person_4</td>\n",
       "      <td>0</td>\n",
       "      <td>1</td>\n",
       "      <td>0</td>\n",
       "      <td>0</td>\n",
       "      <td>0</td>\n",
       "      <td>0</td>\n",
       "      <td>0</td>\n",
       "      <td>0</td>\n",
       "      <td>0</td>\n",
       "      <td>...</td>\n",
       "      <td>0</td>\n",
       "      <td>0</td>\n",
       "      <td>0</td>\n",
       "      <td>0</td>\n",
       "      <td>0</td>\n",
       "      <td>0</td>\n",
       "      <td>0</td>\n",
       "      <td>0</td>\n",
       "      <td>0</td>\n",
       "      <td>0</td>\n",
       "    </tr>\n",
       "    <tr>\n",
       "      <th>...</th>\n",
       "      <td>...</td>\n",
       "      <td>...</td>\n",
       "      <td>...</td>\n",
       "      <td>...</td>\n",
       "      <td>...</td>\n",
       "      <td>...</td>\n",
       "      <td>...</td>\n",
       "      <td>...</td>\n",
       "      <td>...</td>\n",
       "      <td>...</td>\n",
       "      <td>...</td>\n",
       "      <td>...</td>\n",
       "      <td>...</td>\n",
       "      <td>...</td>\n",
       "      <td>...</td>\n",
       "      <td>...</td>\n",
       "      <td>...</td>\n",
       "      <td>...</td>\n",
       "      <td>...</td>\n",
       "      <td>...</td>\n",
       "      <td>...</td>\n",
       "    </tr>\n",
       "    <tr>\n",
       "      <th>3015</th>\n",
       "      <td>person_3015</td>\n",
       "      <td>0</td>\n",
       "      <td>0</td>\n",
       "      <td>0</td>\n",
       "      <td>0</td>\n",
       "      <td>0</td>\n",
       "      <td>0</td>\n",
       "      <td>0</td>\n",
       "      <td>0</td>\n",
       "      <td>0</td>\n",
       "      <td>...</td>\n",
       "      <td>0</td>\n",
       "      <td>0</td>\n",
       "      <td>0</td>\n",
       "      <td>0</td>\n",
       "      <td>0</td>\n",
       "      <td>0</td>\n",
       "      <td>0</td>\n",
       "      <td>0</td>\n",
       "      <td>0</td>\n",
       "      <td>0</td>\n",
       "    </tr>\n",
       "    <tr>\n",
       "      <th>3016</th>\n",
       "      <td>person_3016</td>\n",
       "      <td>2</td>\n",
       "      <td>0</td>\n",
       "      <td>0</td>\n",
       "      <td>1</td>\n",
       "      <td>0</td>\n",
       "      <td>0</td>\n",
       "      <td>1</td>\n",
       "      <td>0</td>\n",
       "      <td>0</td>\n",
       "      <td>...</td>\n",
       "      <td>0</td>\n",
       "      <td>1</td>\n",
       "      <td>0</td>\n",
       "      <td>0</td>\n",
       "      <td>0</td>\n",
       "      <td>0</td>\n",
       "      <td>0</td>\n",
       "      <td>1</td>\n",
       "      <td>0</td>\n",
       "      <td>2</td>\n",
       "    </tr>\n",
       "    <tr>\n",
       "      <th>3017</th>\n",
       "      <td>person_3017</td>\n",
       "      <td>1</td>\n",
       "      <td>0</td>\n",
       "      <td>0</td>\n",
       "      <td>0</td>\n",
       "      <td>0</td>\n",
       "      <td>0</td>\n",
       "      <td>0</td>\n",
       "      <td>0</td>\n",
       "      <td>0</td>\n",
       "      <td>...</td>\n",
       "      <td>0</td>\n",
       "      <td>1</td>\n",
       "      <td>0</td>\n",
       "      <td>0</td>\n",
       "      <td>0</td>\n",
       "      <td>0</td>\n",
       "      <td>0</td>\n",
       "      <td>0</td>\n",
       "      <td>0</td>\n",
       "      <td>0</td>\n",
       "    </tr>\n",
       "    <tr>\n",
       "      <th>3018</th>\n",
       "      <td>person_3018</td>\n",
       "      <td>0</td>\n",
       "      <td>1</td>\n",
       "      <td>0</td>\n",
       "      <td>0</td>\n",
       "      <td>0</td>\n",
       "      <td>0</td>\n",
       "      <td>0</td>\n",
       "      <td>1</td>\n",
       "      <td>0</td>\n",
       "      <td>...</td>\n",
       "      <td>0</td>\n",
       "      <td>0</td>\n",
       "      <td>0</td>\n",
       "      <td>0</td>\n",
       "      <td>0</td>\n",
       "      <td>0</td>\n",
       "      <td>0</td>\n",
       "      <td>0</td>\n",
       "      <td>1</td>\n",
       "      <td>0</td>\n",
       "    </tr>\n",
       "    <tr>\n",
       "      <th>3019</th>\n",
       "      <td>person_3019</td>\n",
       "      <td>0</td>\n",
       "      <td>0</td>\n",
       "      <td>0</td>\n",
       "      <td>0</td>\n",
       "      <td>0</td>\n",
       "      <td>0</td>\n",
       "      <td>0</td>\n",
       "      <td>0</td>\n",
       "      <td>2</td>\n",
       "      <td>...</td>\n",
       "      <td>3</td>\n",
       "      <td>0</td>\n",
       "      <td>0</td>\n",
       "      <td>0</td>\n",
       "      <td>1</td>\n",
       "      <td>1</td>\n",
       "      <td>0</td>\n",
       "      <td>0</td>\n",
       "      <td>0</td>\n",
       "      <td>0</td>\n",
       "    </tr>\n",
       "  </tbody>\n",
       "</table>\n",
       "<p>3020 rows × 575 columns</p>\n",
       "</div>"
      ],
      "text/plain": [
       "           target  good_0  good_1  good_2  good_3  good_4  good_5  good_6  \\\n",
       "0        person_0       0       0       0       0       0       0       0   \n",
       "1        person_1       0       0       0       0       0       0       0   \n",
       "2        person_2       0       0       0       1       0       0       0   \n",
       "3        person_3       0       0       0       0       0       0       0   \n",
       "4        person_4       0       1       0       0       0       0       0   \n",
       "...           ...     ...     ...     ...     ...     ...     ...     ...   \n",
       "3015  person_3015       0       0       0       0       0       0       0   \n",
       "3016  person_3016       2       0       0       1       0       0       1   \n",
       "3017  person_3017       1       0       0       0       0       0       0   \n",
       "3018  person_3018       0       1       0       0       0       0       0   \n",
       "3019  person_3019       0       0       0       0       0       0       0   \n",
       "\n",
       "      good_7  good_8  ...  good_564  good_565  good_566  good_567  good_568  \\\n",
       "0          0       0  ...         1         0         0         0         0   \n",
       "1          0       0  ...         1         1         0         0         0   \n",
       "2          0       0  ...         0         0         0         0         0   \n",
       "3          0       0  ...         0         0         0         1         0   \n",
       "4          0       0  ...         0         0         0         0         0   \n",
       "...      ...     ...  ...       ...       ...       ...       ...       ...   \n",
       "3015       0       0  ...         0         0         0         0         0   \n",
       "3016       0       0  ...         0         1         0         0         0   \n",
       "3017       0       0  ...         0         1         0         0         0   \n",
       "3018       1       0  ...         0         0         0         0         0   \n",
       "3019       0       2  ...         3         0         0         0         1   \n",
       "\n",
       "      good_569  good_570  good_571  good_572  good_573  \n",
       "0            0         0         0         0         0  \n",
       "1            0         0         0         0         0  \n",
       "2            0         0         0         0         0  \n",
       "3            0         0         0         0         0  \n",
       "4            0         0         0         0         0  \n",
       "...        ...       ...       ...       ...       ...  \n",
       "3015         0         0         0         0         0  \n",
       "3016         0         0         1         0         2  \n",
       "3017         0         0         0         0         0  \n",
       "3018         0         0         0         1         0  \n",
       "3019         1         0         0         0         0  \n",
       "\n",
       "[3020 rows x 575 columns]"
      ]
     },
     "execution_count": 10,
     "metadata": {},
     "output_type": "execute_result"
    }
   ],
   "source": [
    "train_df"
   ]
  },
  {
   "cell_type": "markdown",
   "metadata": {
    "cellId": "bk1skev61wd8otep9at8wj",
    "id": "IS2BU1z8UeuU"
   },
   "source": [
    "# ContentBased recomendations"
   ]
  },
  {
   "cell_type": "code",
   "execution_count": 12,
   "metadata": {
    "cellId": "7iwk3tauoaag6aws3vibrt"
   },
   "outputs": [
    {
     "name": "stdout",
     "output_type": "stream",
     "text": [
      "Defaulting to user installation because normal site-packages is not writeable\n",
      "Requirement already satisfied: gensim in /usr/local/lib/python3.8/dist-packages (3.8.1)\n",
      "Requirement already satisfied: smart-open>=1.8.1 in /usr/local/lib/python3.8/dist-packages (from gensim) (5.2.1)\n",
      "Requirement already satisfied: numpy>=1.11.3 in /kernel/lib/python3.8/site-packages (from gensim) (1.19.4)\n",
      "Requirement already satisfied: scipy>=0.18.1 in /usr/local/lib/python3.8/dist-packages (from gensim) (1.4.1)\n",
      "Requirement already satisfied: six>=1.5.0 in /kernel/lib/python3.8/site-packages (from gensim) (1.16.0)\n",
      "\u001b[33mWARNING: You are using pip version 21.3.1; however, version 22.0.4 is available.\n",
      "You should consider upgrading via the '/usr/local/bin/python3 -m pip install --upgrade pip' command.\u001b[0m\n"
     ]
    }
   ],
   "source": [
    "%pip install gensim"
   ]
  },
  {
   "cell_type": "code",
   "execution_count": 14,
   "metadata": {
    "cellId": "tegxqu7gm9j30ei9yoq7k",
    "id": "sdHaqicFxPkJ"
   },
   "outputs": [],
   "source": [
    "from sklearn.metrics.pairwise import cosine_similarity\n",
    "import gensim"
   ]
  },
  {
   "cell_type": "markdown",
   "metadata": {
    "cellId": "n8nfqw9ln5et2uplkvqv3m",
    "id": "6yijuS-vy0R-"
   },
   "source": [
    "# form Content "
   ]
  },
  {
   "cell_type": "code",
   "execution_count": null,
   "metadata": {
    "cellId": "hf5cj7nltw40g67kye2i2ds",
    "colab": {
     "base_uri": "https://localhost:8080/",
     "height": 423
    },
    "id": "kVh3CE9Nz3So",
    "outputId": "3a59cf35-4c9d-4124-d17f-bbf2388ba02b"
   },
   "outputs": [],
   "source": [
    "goods_df"
   ]
  },
  {
   "cell_type": "code",
   "execution_count": null,
   "metadata": {
    "cellId": "e50k9j4u8pa3vz1wf0llar",
    "id": "eRmrQj385sXI"
   },
   "outputs": [],
   "source": [
    "from tqdm import trange"
   ]
  },
  {
   "cell_type": "code",
   "execution_count": null,
   "metadata": {
    "cellId": "p4qq8xx6sm8zlgxeoff2j",
    "id": "2eDy2NJODSmR"
   },
   "outputs": [],
   "source": [
    "def get_content_base(df):\n",
    "    content_base = []\n",
    "    goods = df.shape[1] - 1\n",
    "    for i in trange(len(df)):\n",
    "        content = ''\n",
    "        for good_id in range(goods):\n",
    "            goods_num = df.iloc[i][good_id+1]\n",
    "            if goods_num > 0:\n",
    "                content += (goods_df.iloc[good_id]['good'] + ' ') * goods_num\n",
    "        content_base.append(content)   \n",
    "    users_content = pd.DataFrame({\"user_id\": list(range(df.shape[0])),\n",
    "                           'content': content_base})  \n",
    "    return users_content"
   ]
  },
  {
   "cell_type": "code",
   "execution_count": null,
   "metadata": {
    "cellId": "29crfvn74wc4ymviy8bo7b",
    "id": "NBk2JbsmD0PJ"
   },
   "outputs": [],
   "source": [
    "users_content_train = get_content_base(train_df)"
   ]
  },
  {
   "cell_type": "code",
   "execution_count": 4,
   "metadata": {
    "cellId": "gghipjiml5ullpykuyv1ho",
    "colab": {
     "base_uri": "https://localhost:8080/"
    },
    "id": "IElKRqQvD7NK",
    "outputId": "d2e76936-5c6c-4e0b-b902-bcee3f2d30a6"
   },
   "outputs": [
    {
     "ename": "NameError",
     "evalue": "name 'get_content_base' is not defined",
     "output_type": "error",
     "traceback": [
      "\u001b[0;31m---------------------------------------------------------------------------\u001b[0m",
      "\u001b[0;31mNameError\u001b[0m                                 Traceback (most recent call last)",
      "\u001b[0;32m<ipython-input-3-3a56f38b9c3a>\u001b[0m in \u001b[0;36m<module>\u001b[0;34m\u001b[0m\n\u001b[0;32m----> 1\u001b[0;31m \u001b[0musers_content_eval\u001b[0m \u001b[0;34m=\u001b[0m \u001b[0mget_content_base\u001b[0m\u001b[0;34m(\u001b[0m\u001b[0meval_df\u001b[0m\u001b[0;34m)\u001b[0m\u001b[0;34m\u001b[0m\u001b[0;34m\u001b[0m\u001b[0m\n\u001b[0m\u001b[1;32m      2\u001b[0m \u001b[0;31m#\u001b[0m\u001b[0;34m\u001b[0m\u001b[0;34m\u001b[0m\u001b[0;34m\u001b[0m\u001b[0m\n",
      "\u001b[0;31mNameError\u001b[0m: name 'get_content_base' is not defined"
     ]
    }
   ],
   "source": [
    "users_content_eval = get_content_base(eval_df)"
   ]
  },
  {
   "cell_type": "code",
   "execution_count": null,
   "metadata": {
    "cellId": "1m58z31prlptgubwzk8q8f",
    "id": "q9AMXstED6Tq"
   },
   "outputs": [],
   "source": [
    "users_content_test = get_content_base(test_df)"
   ]
  },
  {
   "cell_type": "code",
   "execution_count": null,
   "metadata": {
    "cellId": "qhezbd26aymjyj3o6lrrni",
    "id": "JhMuQ4YyUhWy"
   },
   "outputs": [],
   "source": [
    "class Content_Based():\n",
    "    def __init__(self, items):\n",
    "        self.items = items\n",
    "        self.content_dict = {}\n",
    "        \n",
    "    def avg_feature_vector(self, words, model, num_features, index2word_set):\n",
    "        feature_vec = np.zeros((num_features, ), dtype='float32')\n",
    "        n_words = 0\n",
    "        for word in words:\n",
    "            if word in index2word_set:\n",
    "                n_words += 1\n",
    "                feature_vec = np.add(feature_vec, model.wv[word])\n",
    "        if (n_words > 0):\n",
    "            feature_vec = feature_vec / n_words\n",
    "        return feature_vec\n",
    "\n",
    "    def get_items_representation(self):\n",
    "        \n",
    "        item_description = [gensim.utils.simple_preprocess(re.sub(\"[^a-zA-Zа-яА-Я]+\", \" \", i.lower())) \n",
    "                            for i in self.items['good']]\n",
    "        #build vocabulary and train model\n",
    "        self.model = gensim.models.Word2Vec(\n",
    "                item_description,\n",
    "                size=200,\n",
    "                window=10,\n",
    "                min_count=1,\n",
    "                workers=10,\n",
    "                iter=100)\n",
    "        \n",
    "        self.index2word_set = set(self.model.wv.index2word)\n",
    "        self.items_embs = np.zeros((len(item_description), 200))\n",
    "        for i in range(self.items_embs.shape[0]):\n",
    "            self.items_embs[i] = self.avg_feature_vector(item_description[i], self.model, 200, self.index2word_set)\n",
    "\n",
    "    def get_user_embedding(self, i, interactions):\n",
    "        user_interactions = interactions.iloc[i]['content']\n",
    "        print(user_interactions)\n",
    "        user_processed = gensim.utils.simple_preprocess(re.sub(\"[^a-zA-Zа-яА-Я]+\", \" \", user_interactions.lower()))\n",
    "        user_emb = self.avg_feature_vector(user_processed, self.model, 200, self.index2word_set)\n",
    "        return user_emb"
   ]
  },
  {
   "cell_type": "code",
   "execution_count": null,
   "metadata": {
    "cellId": "77y0yz3ffwfrsx767k2lan",
    "id": "Q4NLS0K87RNv"
   },
   "outputs": [],
   "source": [
    "CB = Content_Based(goods_df)"
   ]
  },
  {
   "cell_type": "code",
   "execution_count": 5,
   "metadata": {
    "cellId": "v8de5pgnfqfnxeg2n5reu",
    "id": "xrcJhvilCWGQ"
   },
   "outputs": [
    {
     "ename": "NameError",
     "evalue": "name 'CB' is not defined",
     "output_type": "error",
     "traceback": [
      "\u001b[0;31m---------------------------------------------------------------------------\u001b[0m",
      "\u001b[0;31mNameError\u001b[0m                                 Traceback (most recent call last)",
      "\u001b[0;32m<ipython-input-4-1a6c67a37ec0>\u001b[0m in \u001b[0;36m<module>\u001b[0;34m\u001b[0m\n\u001b[0;32m----> 1\u001b[0;31m \u001b[0mCB\u001b[0m\u001b[0;34m.\u001b[0m\u001b[0mget_items_representation\u001b[0m\u001b[0;34m(\u001b[0m\u001b[0;34m)\u001b[0m\u001b[0;34m\u001b[0m\u001b[0;34m\u001b[0m\u001b[0m\n\u001b[0m\u001b[1;32m      2\u001b[0m \u001b[0;31m#\u001b[0m\u001b[0;34m\u001b[0m\u001b[0;34m\u001b[0m\u001b[0;34m\u001b[0m\u001b[0m\n",
      "\u001b[0;31mNameError\u001b[0m: name 'CB' is not defined"
     ]
    }
   ],
   "source": [
    "CB.get_items_representation()"
   ]
  },
  {
   "cell_type": "code",
   "execution_count": null,
   "metadata": {
    "cellId": "wzgrh573os2jkmip510p",
    "id": "DdYwWzq9Bqcs"
   },
   "outputs": [],
   "source": [
    "#for i in trange()"
   ]
  },
  {
   "cell_type": "code",
   "execution_count": null,
   "metadata": {
    "cellId": "5u9fibycb0ugruuj941otb",
    "colab": {
     "base_uri": "https://localhost:8080/"
    },
    "id": "NcxfDVxTHvpy",
    "outputId": "7d99957a-0191-41cb-ea06-864bca262358"
   },
   "outputs": [],
   "source": [
    "CB.get_user_embedding(6, users_content_eval).shape"
   ]
  },
  {
   "cell_type": "code",
   "execution_count": null,
   "metadata": {
    "cellId": "8p7npjbjfi1p42zia1et6",
    "colab": {
     "base_uri": "https://localhost:8080/",
     "height": 1000
    },
    "id": "1D-CTTdhBNSY",
    "outputId": "b992cab9-8571-4a29-ac0b-9a70df51300f"
   },
   "outputs": [],
   "source": [
    "metrics = cosine_similarity(CB.get_user_embedding(6, users_content), CB.get_user_embedding(6, users_content_eval))"
   ]
  },
  {
   "cell_type": "code",
   "execution_count": null,
   "metadata": {
    "cellId": "p9bvraxbz7lokvoadvxv6q"
   },
   "outputs": [],
   "source": []
  }
 ],
 "metadata": {
  "colab": {
   "collapsed_sections": [],
   "name": "Lunch.ipynb",
   "provenance": []
  },
  "kernelspec": {
   "display_name": "Yandex DataSphere Kernel",
   "language": "python",
   "name": "python3"
  },
  "language_info": {
   "codemirror_mode": {
    "name": "ipython",
    "version": 3
   },
   "file_extension": ".py",
   "mimetype": "text/x-python",
   "name": "python",
   "nbconvert_exporter": "python",
   "pygments_lexer": "ipython3",
   "version": "3.7.7"
  },
  "notebookId": "43ff4667-4f14-4954-be53-2e7b53042856",
  "notebookPath": "Lunch (1).ipynb"
 },
 "nbformat": 4,
 "nbformat_minor": 4
}
